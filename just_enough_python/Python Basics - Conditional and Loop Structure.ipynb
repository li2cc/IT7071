{
 "cells": [
  {
   "cell_type": "markdown",
   "metadata": {},
   "source": [
    "# Python Basics - Conditional and Loop Structures\n",
    "\n",
    "This notebook covers basic Python syntax, variable, operations, functions, and other key aspects of Python language\n",
    "for you to start programming Python. It's recommended that you are already familiar with another high level \n",
    "programming language before taking advantage of this notebook. For detailed explanation of each topic covered in \n",
    "this notebook, please use online resources for a more comprehensive study of Python basics. "
   ]
  },
  {
   "cell_type": "code",
   "execution_count": 2,
   "metadata": {
    "collapsed": false
   },
   "outputs": [
    {
     "name": "stdout",
     "output_type": "stream",
     "text": [
      "B\n"
     ]
    }
   ],
   "source": [
    "# make decisions based on conditional statements\n",
    "# if, elif, else\n",
    "def calcuate_grade(score):\n",
    "    if score >= 90:\n",
    "        return \"A\"\n",
    "    elif score >= 78:\n",
    "        return \"B\"\n",
    "    elif score >= 66:\n",
    "        return \"C\"\n",
    "    else:\n",
    "        return \"F\"\n",
    "    \n",
    "grade = calcuate_grade(85)\n",
    "print(grade)"
   ]
  },
  {
   "cell_type": "code",
   "execution_count": 10,
   "metadata": {
    "collapsed": false
   },
   "outputs": [
    {
     "name": "stdout",
     "output_type": "stream",
     "text": [
      "[100, 91, 82, 73, 64, 55, 46, 37, 28, 19]\n",
      "[1, 3, 5, 7, 9, 11, 13, 15, 17, 19, 21, 23, 25, 27, 29, 31, 33, 35, 37, 39, 41, 43, 45, 47, 49, 51, 53, 55, 57, 59, 61, 63, 65, 67, 69, 71, 73, 75, 77, 79, 81, 83, 85, 87, 89, 91, 93, 95, 97, 99]\n"
     ]
    },
    {
     "data": {
      "text/plain": [
       "range(0, 10)"
      ]
     },
     "execution_count": 10,
     "metadata": {},
     "output_type": "execute_result"
    }
   ],
   "source": [
    "#before we move on to the looping structure, let's take a look at range class\n",
    "i=range(100,10,-9)\n",
    "print([a for a in i])\n",
    "\n",
    "start = 1\n",
    "end = 100\n",
    "step = 2 \n",
    "print([a for a in range(start,end,step)]) #all odd numbers between 1 and 11 \n",
    "\n",
    "range(10) #integers from 0 to 9 "
   ]
  },
  {
   "cell_type": "code",
   "execution_count": 16,
   "metadata": {
    "collapsed": false
   },
   "outputs": [
    {
     "name": "stdout",
     "output_type": "stream",
     "text": [
      "\n",
      "*\n",
      "***\n",
      "*****\n",
      "*******\n",
      "*********\n",
      "***********\n",
      "*************\n",
      "***************\n",
      "\n"
     ]
    }
   ],
   "source": [
    "#now, let's look at a nested \"for\" loop example\n",
    "\n",
    "star_str = \"\"\n",
    "for i in range(9):\n",
    "    for j in range(i*2-1):\n",
    "        star_str += \"*\"\n",
    "    star_str += \"\\n\"\n",
    "\n",
    "print(star_str)\n",
    "        "
   ]
  },
  {
   "cell_type": "code",
   "execution_count": 18,
   "metadata": {
    "collapsed": false
   },
   "outputs": [
    {
     "name": "stdout",
     "output_type": "stream",
     "text": [
      "['Data', 'scientists', 'use', 'their', 'data', 'and', 'analytical', 'ability', 'to', 'find', 'and', 'interpret', 'rich', 'data', 'sources']\n",
      "scientists\n",
      "analytical\n",
      "ability\n",
      "interpret\n",
      "sources\n"
     ]
    }
   ],
   "source": [
    "text=\"Data scientists use their data and analytical ability to find and interpret rich data sources\"\n",
    "words = text.split()\n",
    "print(words)\n",
    "\n",
    "for word in words:\n",
    "    if len(word) > 5:\n",
    "        print(word)"
   ]
  },
  {
   "cell_type": "code",
   "execution_count": 16,
   "metadata": {
    "collapsed": false
   },
   "outputs": [
    {
     "name": "stdout",
     "output_type": "stream",
     "text": [
      "2\n",
      "3\n",
      "5\n",
      "7\n",
      "11\n",
      "13\n",
      "17\n",
      "19\n",
      "23\n",
      "29\n",
      "31\n",
      "37\n",
      "41\n",
      "43\n",
      "47\n",
      "53\n",
      "59\n",
      "61\n",
      "67\n",
      "71\n",
      "73\n",
      "79\n",
      "83\n",
      "89\n",
      "97\n",
      "101\n",
      "103\n",
      "107\n",
      "109\n",
      "113\n",
      "127\n",
      "131\n",
      "137\n",
      "139\n",
      "149\n",
      "151\n",
      "157\n",
      "163\n",
      "167\n",
      "173\n",
      "179\n",
      "181\n",
      "191\n",
      "193\n",
      "197\n",
      "199\n",
      "211\n",
      "223\n",
      "227\n",
      "229\n",
      "233\n",
      "239\n",
      "241\n",
      "251\n",
      "257\n",
      "263\n",
      "269\n",
      "271\n",
      "277\n",
      "281\n",
      "283\n",
      "293\n",
      "307\n",
      "311\n",
      "313\n",
      "317\n",
      "331\n",
      "337\n",
      "347\n",
      "349\n",
      "353\n",
      "359\n",
      "367\n",
      "373\n",
      "379\n",
      "383\n",
      "389\n",
      "397\n"
     ]
    }
   ],
   "source": [
    "#We can use \"break\" and \"continue\" to improve the efficiency of the program\n",
    "#The following code finds the prime numbers within 400\n",
    "for i in range(2,400):  #set the loop range from 2 to 399\n",
    "    prime=True          #assume each number is prime number without testing\n",
    "    for j in range(2,i-1):   #create an inner loop to find if there is a factor (quiz: what's a better range than this)\n",
    "        if i%j ==0:          #if a factor is found\n",
    "            prime=False      #mark i is not prime\n",
    "            break            #completely stop inner loop\n",
    "    if prime==False:    #we can simple use if prime: print(i) here. But I'd like to show the use continue\n",
    "        continue        #skip the remaining statements of i loop\n",
    "        \n",
    "    print(i)            # the prime number is printed "
   ]
  }
 ],
 "metadata": {
  "anaconda-cloud": {},
  "kernelspec": {
   "display_name": "Python [conda root]",
   "language": "python",
   "name": "conda-root-py"
  },
  "language_info": {
   "codemirror_mode": {
    "name": "ipython",
    "version": 3
   },
   "file_extension": ".py",
   "mimetype": "text/x-python",
   "name": "python",
   "nbconvert_exporter": "python",
   "pygments_lexer": "ipython3",
   "version": "3.5.2"
  }
 },
 "nbformat": 4,
 "nbformat_minor": 0
}
