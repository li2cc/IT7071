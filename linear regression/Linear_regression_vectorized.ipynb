{
 "cells": [
  {
   "cell_type": "markdown",
   "metadata": {},
   "source": [
    "# This notebook is to demonstrate linear regression using vectorization\n",
    "\n",
    "This is the enhanced solution of the simple linear regression notebook\n",
    "1. Using vectorization to speed up the process\n",
    "2. This method applies to general linear regression with multiple variates \n",
    "3. This method still uses stochastic solution to work on online data"
   ]
  },
  {
   "cell_type": "code",
   "execution_count": 1,
   "metadata": {
    "collapsed": true
   },
   "outputs": [],
   "source": [
    "#get data from https://github.com/joelgrus/data-science-from-scratch/blob/master/code-python3/simple_linear_regression.py\n",
    "import random\n",
    "import numpy as np\n",
    "num_friends_good = [49,41,40,25,21,21,19,19,18,18,16,15,15,15,15,14,14,13,13,13,13,12,12,11,10,10,10,10,10,10,10,10,10,10,10,10,10,10,10,9,9,9,9,9,9,9,9,9,9,9,9,9,9,9,9,9,9,8,8,8,8,8,8,8,8,8,8,8,8,8,7,7,7,7,7,7,7,7,7,7,7,7,7,7,7,6,6,6,6,6,6,6,6,6,6,6,6,6,6,6,6,6,6,6,6,6,6,5,5,5,5,5,5,5,5,5,5,5,5,5,5,5,5,5,4,4,4,4,4,4,4,4,4,4,4,4,4,4,4,4,4,4,4,4,3,3,3,3,3,3,3,3,3,3,3,3,3,3,3,3,3,3,3,3,2,2,2,2,2,2,2,2,2,2,2,2,2,2,2,2,2,1,1,1,1,1,1,1,1,1,1,1,1,1,1,1,1,1,1,1,1,1,1]\n",
    "daily_minutes_good = [68.77,51.25,52.08,38.36,44.54,57.13,51.4,41.42,31.22,34.76,54.01,38.79,47.59,49.1,27.66,41.03,36.73,48.65,28.12,46.62,35.57,32.98,35,26.07,23.77,39.73,40.57,31.65,31.21,36.32,20.45,21.93,26.02,27.34,23.49,46.94,30.5,33.8,24.23,21.4,27.94,32.24,40.57,25.07,19.42,22.39,18.42,46.96,23.72,26.41,26.97,36.76,40.32,35.02,29.47,30.2,31,38.11,38.18,36.31,21.03,30.86,36.07,28.66,29.08,37.28,15.28,24.17,22.31,30.17,25.53,19.85,35.37,44.6,17.23,13.47,26.33,35.02,32.09,24.81,19.33,28.77,24.26,31.98,25.73,24.86,16.28,34.51,15.23,39.72,40.8,26.06,35.76,34.76,16.13,44.04,18.03,19.65,32.62,35.59,39.43,14.18,35.24,40.13,41.82,35.45,36.07,43.67,24.61,20.9,21.9,18.79,27.61,27.21,26.61,29.77,20.59,27.53,13.82,33.2,25,33.1,36.65,18.63,14.87,22.2,36.81,25.53,24.62,26.25,18.21,28.08,19.42,29.79,32.8,35.99,28.32,27.79,35.88,29.06,36.28,14.1,36.63,37.49,26.9,18.58,38.48,24.48,18.95,33.55,14.24,29.04,32.51,25.63,22.22,19,32.73,15.16,13.9,27.2,32.01,29.27,33,13.74,20.42,27.32,18.23,35.35,28.48,9.08,24.62,20.12,35.26,19.92,31.02,16.49,12.16,30.7,31.22,34.65,13.13,27.51,33.2,31.57,14.1,33.42,17.44,10.12,24.42,9.82,23.39,30.93,15.03,21.67,31.09,33.29,22.61,26.89,23.48,8.38,27.81,32.35,23.84]\n"
   ]
  },
  {
   "cell_type": "code",
   "execution_count": 2,
   "metadata": {
    "collapsed": false
   },
   "outputs": [],
   "source": [
    "data = np.array(list(zip(num_friends_good, daily_minutes_good)))"
   ]
  },
  {
   "cell_type": "code",
   "execution_count": 3,
   "metadata": {
    "collapsed": false
   },
   "outputs": [
    {
     "name": "stdout",
     "output_type": "stream",
     "text": [
      "2\n",
      "(203, 2)\n"
     ]
    }
   ],
   "source": [
    "data[0,0]\n",
    "print(data.ndim)\n",
    "print(data.shape)"
   ]
  },
  {
   "cell_type": "code",
   "execution_count": 4,
   "metadata": {
    "collapsed": true
   },
   "outputs": [],
   "source": [
    "#randomize the the order of data\n",
    "#np.random.shuffle(data)"
   ]
  },
  {
   "cell_type": "code",
   "execution_count": 5,
   "metadata": {
    "collapsed": false
   },
   "outputs": [
    {
     "data": {
      "text/plain": [
       "array([[ 49.  ,  68.77],\n",
       "       [ 41.  ,  51.25],\n",
       "       [ 40.  ,  52.08]])"
      ]
     },
     "execution_count": 5,
     "metadata": {},
     "output_type": "execute_result"
    }
   ],
   "source": [
    "data[0:3,:]"
   ]
  },
  {
   "cell_type": "code",
   "execution_count": 6,
   "metadata": {
    "collapsed": false
   },
   "outputs": [],
   "source": [
    "#add a column of ones to the data set as x_0\n",
    "ones = np.ones((data.shape[0],1))\n",
    "ones.shape\n",
    "data = np.concatenate((ones,data),axis=1)\n",
    "#print(data)"
   ]
  },
  {
   "cell_type": "code",
   "execution_count": 7,
   "metadata": {
    "collapsed": false
   },
   "outputs": [
    {
     "data": {
      "text/plain": [
       "array([[  1.  ,  49.  ,  68.77],\n",
       "       [  1.  ,  41.  ,  51.25],\n",
       "       [  1.  ,  40.  ,  52.08]])"
      ]
     },
     "execution_count": 7,
     "metadata": {},
     "output_type": "execute_result"
    }
   ],
   "source": [
    "data[0:3,:]"
   ]
  },
  {
   "cell_type": "code",
   "execution_count": 8,
   "metadata": {
    "collapsed": true
   },
   "outputs": [],
   "source": [
    "random.seed(10) #seed random generator so we can get the same random number very time for debugging\n",
    "#create two non-zero random initial values for alpha and beta\n",
    "theta = np.array([random.random(), random.random()])\n",
    "initial_alpha = 0.0001\n",
    "alpha = initial_alpha #initial alpha\n",
    "min_theta, min_cost = None, float(\"inf\")\n",
    "iterations_with_no_improvement = 0"
   ]
  },
  {
   "cell_type": "code",
   "execution_count": 9,
   "metadata": {
    "collapsed": false
   },
   "outputs": [
    {
     "name": "stdout",
     "output_type": "stream",
     "text": [
      "[22.95063040847867, 0.90360764923191816]\n",
      "0.9271175861358643\n"
     ]
    }
   ],
   "source": [
    "#use a timer to see how much time it takes for the program to converge\n",
    "#stochastic solution - the efficient way \n",
    "import time\n",
    "start_time = time.time()\n",
    "\n",
    "#in the vectorizated solution\n",
    "#x_i is data[:,1]\n",
    "#y_i is data[:,2]\n",
    "#difference of y and predicted y for data point 3 is \n",
    "#data[3,2] - data[3,0:2]*theta  \n",
    "#the shape of data[3,0:2] is 1X2 and theta is 2X1, the product is 1x1\n",
    "\n",
    "while iterations_with_no_improvement < 100:\n",
    "    \n",
    "    #the cost is the SSE that we want to minimize\n",
    "    cost = sum((data[:,2] - np.dot(data[:,0:2],theta))**2)\n",
    "    #print(cost)\n",
    "    #print(theta)\n",
    "       \n",
    "    #if there is an improvement\n",
    "    if cost < min_cost:\n",
    "        #reassign the minimum theta and cost to the new values\n",
    "        min_theta, min_cost = theta, cost\n",
    "        #set it back to 0 \n",
    "        iterations_with_no_improvement = 0 \n",
    "        #set the learning rate back to the max greedy rate\n",
    "        alpha = initial_alpha\n",
    "        \n",
    "    \n",
    "    # if there is no improvement\n",
    "    else:\n",
    "        # try a less greedy learning rate up to 100 times\n",
    "        alpha *=0.9\n",
    "        # incremenet the counter\n",
    "        iterations_with_no_improvement +=1\n",
    "    \n",
    "    # iterate through all the data points in the randomized data set\n",
    "    #for x_i, y_i in in_np.random.shuffle(data):\n",
    "    np.random.shuffle(data)\n",
    "    for i in range(data.shape[0]):\n",
    "        # update theta\n",
    "        error = data[i,2]-data[i,0:2].dot(theta)\n",
    "        \n",
    "        #delta_weight = -2*alpha*gradient \n",
    "        #pay close attention to the + sign here\n",
    "        #the gradient is -error and -error*x, so the negative signs cancel out\n",
    "        theta = [theta[0]+2*alpha*error, theta[1]+2*alpha*error*data[i,1]]\n",
    "        #print(theta)\n",
    "\n",
    "print(min_theta)\n",
    "print(time.time()-start_time)"
   ]
  },
  {
   "cell_type": "code",
   "execution_count": 10,
   "metadata": {
    "collapsed": false
   },
   "outputs": [
    {
     "name": "stdout",
     "output_type": "stream",
     "text": [
      "[22.95063040847867, 0.90360764923191816]\n",
      "0.0005002021789550781\n"
     ]
    }
   ],
   "source": [
    "#Now, let's try the batch solution\n",
    "import time\n",
    "start_time = time.time()\n",
    "while iterations_with_no_improvement < 100:\n",
    "    \n",
    "    #the cost is the SSE that we want to minimize\n",
    "    cost = sum((data[:,2] - np.dot(data[:,0:2],theta))**2)\n",
    "    #print(cost)\n",
    "    #print(theta)\n",
    "       \n",
    "    #if there is an improvement\n",
    "    if cost < min_cost:\n",
    "        #reassign the minimum theta and cost to the new values\n",
    "        min_theta, min_cost = theta, cost\n",
    "        #set it back to 0 \n",
    "        iterations_with_no_improvement = 0 \n",
    "        #set the learning rate back to the max greedy rate\n",
    "        alpha = initial_alpha\n",
    "        \n",
    "    \n",
    "    # if there is no improvement\n",
    "    else:\n",
    "        # try a less greedy learning rate up to 100 times\n",
    "        alpha *=0.9\n",
    "        # incremenet the counter\n",
    "        iterations_with_no_improvement +=1\n",
    "    \n",
    "    # iterate through all the data points in the randomized data set\n",
    "    #for x_i, y_i in in_np.random.shuffle(data):\n",
    "    # We don't need to shuffle data any more\n",
    "    #np.random.shuffle(data)\n",
    "    \n",
    "    #the loop is to calculate the gradients\n",
    "    error = 0\n",
    "    error_xi = 0\n",
    "    for i in range(data.shape[0]):\n",
    "        # the difference is here\n",
    "        # theta is updated after each data point\n",
    "        # it is updated as all the data point's contribution is accumulated\n",
    "        # and then there is only one update on theta\n",
    "        error += data[i,2]-data[i,0:2].dot(theta)\n",
    "        error_xi += (data[i,2]-data[i,0:2].dot(theta))*data[i,1]\n",
    "    \n",
    "    #sicne theta is updated only once, it's done after the loop\n",
    "    theta = [theta[0]+2*alpha*error, theta[1]+2*alpha*error_xi]\n",
    "        #print(theta)\n",
    "# we can see that the batch method generated the same result\n",
    "# but which one is more efficient? \n",
    "# the stochasitc solution is more efficience\n",
    "# and since we shuffle the data set in the stochastic solution, we can have difference start point each time\n",
    "# the stochastic method are less subject to local minimum \n",
    "print(min_theta)\n",
    "print(time.time()-start_time)\n",
    "\n",
    "#use time to see that stochastic method only takes 1/3 of the time\n",
    "#imagine we deal with a large data set and how much time can be saved\n",
    "#you can also play with the iteration numbers to see the difference"
   ]
  },
  {
   "cell_type": "code",
   "execution_count": 11,
   "metadata": {
    "collapsed": true
   },
   "outputs": [],
   "source": [
    "#now let's try Scikit-learn\n",
    "from sklearn import linear_model"
   ]
  },
  {
   "cell_type": "code",
   "execution_count": 12,
   "metadata": {
    "collapsed": false
   },
   "outputs": [
    {
     "name": "stdout",
     "output_type": "stream",
     "text": [
      "(203,)\n",
      "(203, 1)\n"
     ]
    }
   ],
   "source": [
    "#the input X in sklearn linear model is a matrix\n",
    "#we need to convert the vector to a nx1 matrix\n",
    "print(data[:,1].shape)\n",
    "data1=np.reshape(data[:,1],(data.shape[0],1))\n",
    "print(data1.shape)"
   ]
  },
  {
   "cell_type": "code",
   "execution_count": 13,
   "metadata": {
    "collapsed": false
   },
   "outputs": [
    {
     "name": "stdout",
     "output_type": "stream",
     "text": [
      "Intercept: \n",
      " 22.9475524135\n",
      "Coefficients: \n",
      " [ 0.90386595]\n",
      "0.005000591278076172\n"
     ]
    }
   ],
   "source": [
    "#we can see that the available library is very efficent\n",
    "start_time = time.time()\n",
    "data1=np.reshape(data[:,1],(data.shape[0],1))\n",
    "model = linear_model.LinearRegression()\n",
    "model.fit(data1, data[:,2])\n",
    "print('Intercept: \\n', model.intercept_)\n",
    "print('Coefficients: \\n', model.coef_)\n",
    "print(time.time()-start_time)"
   ]
  },
  {
   "cell_type": "code",
   "execution_count": 14,
   "metadata": {
    "collapsed": false
   },
   "outputs": [
    {
     "data": {
      "text/plain": [
       "1.6509046910627334e-07"
      ]
     },
     "execution_count": 14,
     "metadata": {},
     "output_type": "execute_result"
    }
   ],
   "source": [
    "2*alpha*data[3,0:2].dot(theta)"
   ]
  },
  {
   "cell_type": "code",
   "execution_count": 15,
   "metadata": {
    "collapsed": true
   },
   "outputs": [],
   "source": [
    "#now, let's plot the predicted model\n",
    "import matplotlib.pyplot as plt\n",
    "%matplotlib inline"
   ]
  },
  {
   "cell_type": "code",
   "execution_count": 18,
   "metadata": {
    "collapsed": false
   },
   "outputs": [
    {
     "data": {
      "image/png": "[encoded data removed]",
      "text/plain": [
       "<matplotlib.figure.Figure at 0xc1092b0>"
      ]
     },
     "metadata": {},
     "output_type": "display_data"
    }
   ],
   "source": [
    "# Plot outputs\n",
    "plt.scatter(data1, data[:,2],  color='black')\n",
    "#the output is a line by default\n",
    "plt.plot(data1, model.predict(data1), color='blue',\n",
    "         linewidth=3)\n",
    "plt.plot(data1, -0.5*data1+30, color='red',\n",
    "         linewidth=3)\n",
    "\n",
    "plt.xlabel('friends')\n",
    "plt.ylabel('time')\n",
    "plt.grid(True)\n",
    "plt.xticks(())\n",
    "plt.yticks(())\n",
    "\n",
    "plt.show()"
   ]
  },
  {
   "cell_type": "code",
   "execution_count": null,
   "metadata": {
    "collapsed": true
   },
   "outputs": [],
   "source": [
    "2*alpha*data[3,0:2]"
   ]
  },
  {
   "cell_type": "code",
   "execution_count": 97,
   "metadata": {
    "collapsed": false
   },
   "outputs": [
    {
     "data": {
      "text/plain": [
       "[0.44257775882280087, -0.035399443537212784]"
      ]
     },
     "execution_count": 97,
     "metadata": {},
     "output_type": "execute_result"
    }
   ],
   "source": [
    "theta"
   ]
  },
  {
   "cell_type": "code",
   "execution_count": 98,
   "metadata": {
    "collapsed": false
   },
   "outputs": [
    {
     "data": {
      "text/plain": [
       "array([ 1.,  2.])"
      ]
     },
     "execution_count": 98,
     "metadata": {},
     "output_type": "execute_result"
    }
   ],
   "source": [
    "data[3,0:2]"
   ]
  },
  {
   "cell_type": "code",
   "execution_count": 100,
   "metadata": {
    "collapsed": false
   },
   "outputs": [
    {
     "data": {
      "text/plain": [
       "0.37177887174837532"
      ]
     },
     "execution_count": 100,
     "metadata": {},
     "output_type": "execute_result"
    }
   ],
   "source": [
    "data[3,0:2].dot(theta)"
   ]
  },
  {
   "cell_type": "code",
   "execution_count": 102,
   "metadata": {
    "collapsed": false
   },
   "outputs": [
    {
     "data": {
      "text/plain": [
       "20.420000000000002"
      ]
     },
     "execution_count": 102,
     "metadata": {},
     "output_type": "execute_result"
    }
   ],
   "source": [
    "data[3,2]"
   ]
  },
  {
   "cell_type": "code",
   "execution_count": 27,
   "metadata": {
    "collapsed": false
   },
   "outputs": [
    {
     "data": {
      "text/plain": [
       "(203,)"
      ]
     },
     "execution_count": 27,
     "metadata": {},
     "output_type": "execute_result"
    }
   ],
   "source": [
    "data[:,1].shape"
   ]
  },
  {
   "cell_type": "code",
   "execution_count": 30,
   "metadata": {
    "collapsed": false
   },
   "outputs": [
    {
     "data": {
      "text/plain": [
       "(203,)"
      ]
     },
     "execution_count": 30,
     "metadata": {},
     "output_type": "execute_result"
    }
   ],
   "source": [
    "data[:,2].shape"
   ]
  },
  {
   "cell_type": "code",
   "execution_count": 31,
   "metadata": {
    "collapsed": true
   },
   "outputs": [],
   "source": [
    "data1=np.reshape(data[:,1],(data.shape[0],1))"
   ]
  },
  {
   "cell_type": "code",
   "execution_count": 32,
   "metadata": {
    "collapsed": false
   },
   "outputs": [
    {
     "data": {
      "text/plain": [
       "(203, 1)"
      ]
     },
     "execution_count": 32,
     "metadata": {},
     "output_type": "execute_result"
    }
   ],
   "source": [
    "data1.shape"
   ]
  },
  {
   "cell_type": "code",
   "execution_count": null,
   "metadata": {
    "collapsed": true
   },
   "outputs": [],
   "source": []
  }
 ],
 "metadata": {
  "anaconda-cloud": {},
  "kernelspec": {
   "display_name": "Python [Root]",
   "language": "python",
   "name": "Python [Root]"
  },
  "language_info": {
   "codemirror_mode": {
    "name": "ipython",
    "version": 3
   },
   "file_extension": ".py",
   "mimetype": "text/x-python",
   "name": "python",
   "nbconvert_exporter": "python",
   "pygments_lexer": "ipython3",
   "version": "3.5.2"
  }
 },
 "nbformat": 4,
 "nbformat_minor": 0
}
