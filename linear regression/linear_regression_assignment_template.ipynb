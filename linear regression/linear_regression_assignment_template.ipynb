{
 "cells": [
  {
   "cell_type": "markdown",
   "metadata": {},
   "source": [
    "## Linear Regression and Vectorization Assignment Template\n",
    "\n",
    "1.  Create an empty notebook for the assignment \n",
    "2.  Copy the cells from this template to your notebook\n",
    "3.  Add your code to cells 3, 4, and 6 to generate (similar) results as shown in the template\n",
    "4.  Fully excecute your notebook and submit the result \n"
   ]
  },
  {
   "cell_type": "code",
   "execution_count": 1,
   "metadata": {
    "collapsed": true
   },
   "outputs": [],
   "source": [
    "#import packets that will be used later\n",
    "import numpy as np \n",
    "import time\n",
    "from matplotlib import pyplot as plt\n",
    "import seaborn as sns\n",
    "%matplotlib inline"
   ]
  },
  {
   "cell_type": "code",
   "execution_count": 2,
   "metadata": {
    "collapsed": true
   },
   "outputs": [],
   "source": [
    "#let's create a deta set with \"years\" as X and \"salary\" as y\n",
    "#there is a linear relationship between X and y\n",
    "\n",
    "years = np.arange(0,40,0.5)\n",
    "np.random.seed(0)\n",
    "salary = 45000+np.sqrt(years)*16789 +np.random.normal(2000,10000,len(years))\n"
   ]
  },
  {
   "cell_type": "code",
   "execution_count": 3,
   "metadata": {
    "collapsed": false
   },
   "outputs": [
    {
     "name": "stdout",
     "output_type": "stream",
     "text": [
      "(80, 2)\n",
      "[[ 1.   0. ]\n",
      " [ 1.   0.5]\n",
      " [ 1.   1. ]]\n"
     ]
    }
   ],
   "source": [
    "\n",
    "y=np.array(salary)\n",
    "\n",
    "#convert X to a nX2 matrix, n is the number samples, and the first column of X is 1\n",
    "X = np.array(years)\n",
    "\n",
    "#Create a ones vector\n",
    "ones = np.ones((X.shape[0],1))\n",
    "\n",
    "#add ones to the first vector/column in X \n",
    "#################################################\n",
    "####  Add Your Code Here ########################\n",
    "X =\n",
    "#################################################\n",
    "#################################################\n",
    "\n",
    "print(X.shape)\n",
    "print(X[0:3, :])"
   ]
  },
  {
   "cell_type": "code",
   "execution_count": 4,
   "metadata": {
    "collapsed": true
   },
   "outputs": [],
   "source": [
    "def vectorized_calculate_SSE(theta):\n",
    "    #Calculate SSE without using for or any loop structure\n",
    "    #Use numpy's .dot() for matrix multiplication only\n",
    "    #################################################\n",
    "    ####  Add Your Code Here ########################\n",
    "    return \n",
    "    #################################################\n",
    "    #################################################\n",
    "    #################################################\n",
    "\n",
    "def vectorized_update_theta(theta, gamma):\n",
    "    gradient=[0,0]\n",
    "    \n",
    "    #Calculate gradient without using for or any loop structure\n",
    "    #Use numpy's .dot() for matrix multiplication only\n",
    "    #################################################\n",
    "    ####  Add Your Code Here ########################\n",
    "    gradient[0] = \n",
    "    gradient[1] = \n",
    "    #################################################\n",
    "    #################################################\n",
    "    #################################################\n",
    "    \n",
    "    return  [theta[0]-gamma*gradient[0], theta[1]-gamma*gradient[1]]\n",
    "\n",
    "def vectorized_adaptive_optimum(theta, gamma, t, precision):\n",
    "    #infinite loop if no \"return\" is executed \n",
    "    while True:\n",
    "        #decrease gamma in every iteration\n",
    "        gamma *=t\n",
    "        \n",
    "        #store SSE \n",
    "        old_SSE = vectorized_calculate_SSE(theta)\n",
    "        \n",
    "        #update theta for a small number of time\n",
    "        for i in range(10):\n",
    "            temp_theta =vectorized_update_theta(theta, gamma) \n",
    "        \n",
    "        #get the new SSE\n",
    "        new_SSE = vectorized_calculate_SSE(temp_theta)\n",
    "        \n",
    "        # if SSE is thrinking, go to the next iteration and try a smaller gamma\n",
    "        if new_SSE > old_SSE:  \n",
    "            continue\n",
    "        \n",
    "        # if SEE does converge\n",
    "        else:\n",
    "            # try a large iteration to see if gamma can be found\n",
    "            for i in range(100000):\n",
    "                \n",
    "                #update theta and calculate new SSE\n",
    "                theta =vectorized_update_theta(theta, gamma) \n",
    "                new_SSE = vectorized_calculate_SSE(theta)\n",
    "                \n",
    "                #if the update is within the prcision \n",
    "                if abs(old_SSE - new_SSE) < precision:\n",
    "                    \n",
    "                    #print out the result and return to the function call\n",
    "                    print(\"found minimum cost: \\t\", new_SSE)\n",
    "                    print(\"the optimum theta: \\t\", theta)\n",
    "                    print(\"the learning rate is: \\t\", gamma)\n",
    "                    return theta"
   ]
  },
  {
   "cell_type": "code",
   "execution_count": 5,
   "metadata": {
    "collapsed": false
   },
   "outputs": [
    {
     "name": "stdout",
     "output_type": "stream",
     "text": [
      "found minimum cost: \t 7684735996.85\n",
      "the optimum theta: \t [79958.203991839735, 1864.8714513134064]\n",
      "the learning rate is: \t 8.335248417898115e-06\n",
      "the calculation takes  5.055289030075073  seconds.\n"
     ]
    }
   ],
   "source": [
    "#initiate theta\n",
    "init_theta=[1,1]\n",
    "\n",
    "#start from a large learning rate\n",
    "gamma = 1\n",
    "\n",
    "#the decrease rate of gamma \n",
    "t=0.9\n",
    "\n",
    "#the precision for stopping the search. 1 unit is a $1\n",
    "precision =1\n",
    "\n",
    "#print out the time used for computing\n",
    "start_time = time.time()\n",
    "\n",
    "#call the vectorized function\n",
    "\n",
    "theta = vectorized_adaptive_optimum(init_theta,gamma,t,precision)\n",
    "print(\"the calculation takes \", time.time()-start_time, \" seconds.\")"
   ]
  },
  {
   "cell_type": "code",
   "execution_count": 6,
   "metadata": {
    "collapsed": false
   },
   "outputs": [
    {
     "data": {
      "image/png": "[encoded data removed]",
      "text/plain": [
       "<matplotlib.figure.Figure at 0xaac74a8>"
      ]
     },
     "metadata": {},
     "output_type": "display_data"
    }
   ],
   "source": [
    "#plot the prediction line\n",
    "\n",
    "plt.title(\"Experience vs. Salary\")\n",
    "plt.xlabel('Years of Experience (Years)')\n",
    "plt.ylabel('Salary ($)')\n",
    "plt.grid(True)\n",
    "plt.xlim(0,40)\n",
    "plt.ylim(45000,180000)\n",
    "plt.scatter(years, salary)\n",
    "\n",
    "\n",
    "####################################################\n",
    "####Type your code here to see the ################# \n",
    "####prediction line in the diagram (one line) ######\n",
    "\n",
    "####################################################\n",
    "####################################################\n",
    " \n",
    "plt.show()"
   ]
  },
  {
   "cell_type": "code",
   "execution_count": null,
   "metadata": {
    "collapsed": true
   },
   "outputs": [],
   "source": []
  }
 ],
 "metadata": {
  "anaconda-cloud": {},
  "kernelspec": {
   "display_name": "Python [Root]",
   "language": "python",
   "name": "Python [Root]"
  },
  "language_info": {
   "codemirror_mode": {
    "name": "ipython",
    "version": 3
   },
   "file_extension": ".py",
   "mimetype": "text/x-python",
   "name": "python",
   "nbconvert_exporter": "python",
   "pygments_lexer": "ipython3",
   "version": "3.5.2"
  }
 },
 "nbformat": 4,
 "nbformat_minor": 0
}
