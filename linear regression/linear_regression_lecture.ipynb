{
 "cells": [
  {
   "cell_type": "markdown",
   "metadata": {},
   "source": [
    "# Simple Linear Regression \n",
    "\n",
    "### This notebook is to explain simple linear regression and vectorization\n",
    "\n",
    "Outcomes: \n",
    "1.\tExplain the concepts of simple linear regression\n",
    "2.\tUse gradient descent method to find the parameters of linear regression model\n",
    "3.\tUse vectorization to speed up the process\n",
    "4.\tExplore the power of solving machine learning tasks using Scikit Learn\n"
   ]
  },
  {
   "cell_type": "markdown",
   "metadata": {},
   "source": [
    "## Simple Linear Regression Explained \n",
    "\n",
    "Data points:  $\\left( {{x_i}\\;,\\;{y_{i\\;}}} \\right)$\n",
    "\n",
    "y is a function of X based on parameter theta:\n",
    "$y\\; \\approx f\\left( {X|\\theta } \\right)$\n",
    "\n",
    "If there is linear relation between y and X  \n",
    "$y = \\;{\\theta _0} + {\\theta _1}x + \\;\\varepsilon $\n",
    "\n",
    "The goal is the create a model  y_hat \n",
    "\n",
    "$ \\;{\\hat y } = \\;{{\\hat \\theta }_0} + {{\\hat \\theta }_1}x $"
   ]
  },
  {
   "cell_type": "code",
   "execution_count": 1,
   "metadata": {
    "collapsed": false
   },
   "outputs": [
    {
     "data": {
      "text/html": [
       "<img src=\"https://upload.wikimedia.org/wikipedia/commons/thumb/3/3a/Linear_regression.svg/330px-Linear_regression.svg.png\"/>"
      ],
      "text/plain": [
       "<IPython.core.display.Image object>"
      ]
     },
     "execution_count": 1,
     "metadata": {},
     "output_type": "execute_result"
    }
   ],
   "source": [
    "# plot y (the actual data) vs. y_hat (the model)\n",
    "from IPython.display import Image\n",
    "from IPython.core.display import HTML \n",
    "Image(url='https://upload.wikimedia.org/wikipedia/commons/thumb/3/3a/Linear_regression.svg/330px-Linear_regression.svg.png') "
   ]
  },
  {
   "cell_type": "code",
   "execution_count": 1,
   "metadata": {
    "collapsed": false,
    "scrolled": true
   },
   "outputs": [
    {
     "data": {
      "text/html": [
       "<img src=\"https://i.stack.imgur.com/GXj8T.png\" width=\"450\" height=\"300\"/>"
      ],
      "text/plain": [
       "<IPython.core.display.Image object>"
      ]
     },
     "execution_count": 1,
     "metadata": {},
     "output_type": "execute_result"
    }
   ],
   "source": [
    "from IPython.display import Image\n",
    "from IPython.core.display import HTML \n",
    "Image(url='https://i.stack.imgur.com/GXj8T.png', height=300, width=450)"
   ]
  },
  {
   "cell_type": "markdown",
   "metadata": {},
   "source": [
    "### The cost we want to minimize \n",
    "In statistics, the residual sum of squares (RSS), also known as the sum of squared residuals (SSR) or the sum of squared errors of prediction (SSE)\n",
    "\n",
    "$SSE = \\mathop \\sum \\limits_i^n {\\left( {{y_i} - \\left( {{{\\hat \\theta }_0} + {{\\hat \\theta }_1}{x_i}} \\right)} \\right)^2}$\n",
    "\n",
    "MSE is the mean squared error  \n",
    "$MSE = \\mathop \\sum \\limits_i^n \\left( {{y_i} - {{\\hat y}_i}} \\right)$/n\n",
    "\n",
    "### The parameters vs. the cost in 3D"
   ]
  },
  {
   "cell_type": "code",
   "execution_count": 2,
   "metadata": {
    "collapsed": false
   },
   "outputs": [
    {
     "data": {
      "text/html": [
       "<img src=\"http://www.schraudolph.org/teach/NNcourse/figs/error.gif\" width=\"450\" height=\"300\"/>"
      ],
      "text/plain": [
       "<IPython.core.display.Image object>"
      ]
     },
     "execution_count": 2,
     "metadata": {},
     "output_type": "execute_result"
    }
   ],
   "source": [
    "from IPython.display import Image\n",
    "from IPython.core.display import HTML \n",
    "Image(url='http://www.schraudolph.org/teach/NNcourse/figs/error.gif',height=300, width=450)"
   ]
  },
  {
   "cell_type": "markdown",
   "metadata": {},
   "source": [
    "### The parameters vs. the cost in 2D"
   ]
  },
  {
   "cell_type": "code",
   "execution_count": 3,
   "metadata": {
    "collapsed": false
   },
   "outputs": [
    {
     "data": {
      "text/html": [
       "<img src=\"http://www.schraudolph.org/teach/NNcourse/figs/error2.gif\" width=\"450\" height=\"300\"/>"
      ],
      "text/plain": [
       "<IPython.core.display.Image object>"
      ]
     },
     "execution_count": 3,
     "metadata": {},
     "output_type": "execute_result"
    }
   ],
   "source": [
    "from IPython.display import Image\n",
    "from IPython.core.display import HTML \n",
    "Image(url='http://www.schraudolph.org/teach/NNcourse/figs/error2.gif', height=300, width=450)"
   ]
  },
  {
   "cell_type": "markdown",
   "metadata": {},
   "source": [
    "### The minimization process through gradient descent"
   ]
  },
  {
   "cell_type": "code",
   "execution_count": 5,
   "metadata": {
    "collapsed": false
   },
   "outputs": [
    {
     "data": {
      "text/html": [
       "<img src=\"http://www.holehouse.org/mlclass/04_Linear_Regression_with_multiple_variables_files/Image%20[5].png\"/>"
      ],
      "text/plain": [
       "<IPython.core.display.Image object>"
      ]
     },
     "execution_count": 5,
     "metadata": {},
     "output_type": "execute_result"
    }
   ],
   "source": [
    "from IPython.display import Image\n",
    "from IPython.core.display import HTML \n",
    "Image(url='http://www.holehouse.org/mlclass/04_Linear_Regression_with_multiple_variables_files/Image%20[5].png')"
   ]
  },
  {
   "cell_type": "markdown",
   "metadata": {},
   "source": [
    "### The partial derivatives of the parameters\n",
    "\n",
    "Chain rule   f(g(x))' = f'(g(x))g'(x)\n",
    "\n",
    "$\\frac{{\\partial SSE}}{{\\partial {\\theta _0}}}$ = $-2\\mathop \\sum \\limits_{}^{} {\\left( {{y_i} - \\left( {{{\\hat \\theta }_0} + {{\\hat \\theta }_1}{x_i}} \\right)} \\right)}$\n",
    "\n",
    "$\\frac{{\\partial SSE}}{{\\partial {\\theta _1}}}$  =  $-2\\mathop \\sum \\limits_i^n {\\left( {{y_i} - \\left( {{{\\hat \\theta }_0} + {{\\hat \\theta }_1}{x_i}} \\right)} \\right)}{x_i}$\n",
    "\n"
   ]
  },
  {
   "cell_type": "markdown",
   "metadata": {},
   "source": [
    "# Hands-on Practice\n",
    "\n"
   ]
  },
  {
   "cell_type": "code",
   "execution_count": 13,
   "metadata": {
    "collapsed": true
   },
   "outputs": [],
   "source": [
    "#import packets that will be used later\n",
    "import numpy as np \n",
    "import time\n",
    "from matplotlib import pyplot as plt\n",
    "import seaborn as sns\n",
    "%matplotlib inline"
   ]
  },
  {
   "cell_type": "markdown",
   "metadata": {},
   "source": [
    "## 1. Obtain or Generate Data"
   ]
  },
  {
   "cell_type": "code",
   "execution_count": 14,
   "metadata": {
    "collapsed": false
   },
   "outputs": [
    {
     "name": "stdout",
     "output_type": "stream",
     "text": [
      "[  0.    0.5   1.    1.5   2.    2.5   3.    3.5   4.    4.5   5.    5.5\n",
      "   6.    6.5   7.    7.5   8.    8.5   9.    9.5  10.   10.5  11.   11.5\n",
      "  12.   12.5  13.   13.5  14.   14.5  15.   15.5  16.   16.5  17.   17.5\n",
      "  18.   18.5  19.   19.5  20.   20.5  21.   21.5  22.   22.5  23.   23.5\n",
      "  24.   24.5  25.   25.5  26.   26.5  27.   27.5  28.   28.5  29.   29.5\n",
      "  30.   30.5  31.   31.5  32.   32.5  33.   33.5  34.   34.5  35.   35.5\n",
      "  36.   36.5  37.   37.5  38.   38.5  39.   39.5]\n",
      "[  64640.52345968   62873.18783301   73576.37984106   89971.17363781\n",
      "   89418.81140018   63772.96101952   85580.28518353   76895.7708503\n",
      "   79545.81148206   86720.83226741   85981.78098585  100916.43016547\n",
      "   95734.86054306   91020.46947178   95858.15108892   96315.31336351\n",
      "  109427.25372894   93896.34304362  100497.67701651   90206.21595491\n",
      "   74561.58147823  107938.76374719  111327.17559387   96512.61883928\n",
      "  127856.34825642   91814.42200072  107991.18553678  106814.88643712\n",
      "  125146.47801013  125624.19503618  113572.99165645  116879.98429441\n",
      "  105278.1425237    95389.27570548  112743.69885523  118796.91561844\n",
      "  130532.60130332  131236.01794203  116308.28618902  118115.18908664\n",
      "  111597.16089782  108815.2511703   106874.16143636  144355.14441276\n",
      "  120650.86837416  122256.47643874  114989.2618444   136162.60068448\n",
      "  113109.98810759  127973.90744325  121990.33438806  135649.31918367\n",
      "  127499.38723802  121620.34537729  133956.38074144  139325.57746495\n",
      "  136504.20974676  139653.45236407  131068.31101017  134560.19917351\n",
      "  132232.53570178  136124.75144337  132345.73306711  123965.2027765\n",
      "  143747.18741727  138694.21669786  127143.47880307  148801.18543573\n",
      "  135822.86771873  146132.50063283  153615.96910023  148321.84146112\n",
      "  159128.00684543  136082.8712218   153146.91653295  142963.10731956\n",
      "  141786.37520403  145384.50877363  148731.74607384  153078.88225011]\n"
     ]
    }
   ],
   "source": [
    "#let's create a deta set with \"years\" as X and \"salary\" as y\n",
    "#there is a linear relationship between X and y\n",
    "\n",
    "years = np.arange(0,40,0.5)\n",
    "np.random.seed(0)\n",
    "salary = 45000+np.sqrt(years)*16789 +np.random.normal(2000,10000,len(years))\n",
    "print(years)\n",
    "print(salary)\n",
    "\n"
   ]
  },
  {
   "cell_type": "markdown",
   "metadata": {
    "collapsed": true
   },
   "source": [
    "## 2. Visualize Data"
   ]
  },
  {
   "cell_type": "code",
   "execution_count": 15,
   "metadata": {
    "collapsed": false
   },
   "outputs": [
    {
     "data": {
      "text/plain": [
       "<seaborn.axisgrid.JointGrid at 0x5dad860>"
      ]
     },
     "execution_count": 15,
     "metadata": {},
     "output_type": "execute_result"
    },
    {
     "data": {
      "image/png": "[encoded data removed]",
      "text/plain": [
       "<matplotlib.figure.Figure at 0xaa667b8>"
      ]
     },
     "metadata": {},
     "output_type": "display_data"
    },
    {
     "data": {
      "image/png": "[encoded data removed]",
      "text/plain": [
       "<matplotlib.figure.Figure at 0xadc7ac8>"
      ]
     },
     "metadata": {},
     "output_type": "display_data"
    }
   ],
   "source": [
    "#plot X vs. y\n",
    "from matplotlib import pyplot as plt\n",
    "import seaborn as sns\n",
    "%matplotlib inline\n",
    "plt.scatter(years, salary)\n",
    "sns.jointplot(years, salary)"
   ]
  },
  {
   "cell_type": "markdown",
   "metadata": {},
   "source": [
    "### Did you notice that X and y are not in a perfect linear relationship? "
   ]
  },
  {
   "cell_type": "code",
   "execution_count": 16,
   "metadata": {
    "collapsed": true
   },
   "outputs": [],
   "source": [
    "#combine X, y into a list\n",
    "data=list(zip(years, salary))  "
   ]
  },
  {
   "cell_type": "markdown",
   "metadata": {},
   "source": [
    "## 3. Train a Linear Regression Model using Gradient Descent\n",
    "\n",
    "Let's reuse our adaptive_optimum() function from the gradient descent module\n",
    "This function automatically finds the optimal value of gamma. \n",
    "\n",
    "<b>theta : - intercept and coefficient of the model <br>\n",
    "gamma      : - learning rate <br>\n",
    "t          : - is the decrease rate of gamma <br>\n",
    "precision  : -  $1  (salary) this is precise enough </b>"
   ]
  },
  {
   "cell_type": "code",
   "execution_count": 21,
   "metadata": {
    "collapsed": false
   },
   "outputs": [
    {
     "name": "stdout",
     "output_type": "stream",
     "text": [
      "found minimum cost:  7684735996.85\n",
      "the optimum theta:  [79958.203991839677, 1864.8714513134084]\n",
      "the gamma used :  3.986723479010574e-06\n",
      "the calculation takes  17.87002205848694  seconds.\n"
     ]
    }
   ],
   "source": [
    "#set the initial values of the parameters\n",
    "init_theta=[1,1]\n",
    "gamma = 1\n",
    "t=0.9\n",
    "precision =1\n",
    "\n",
    "#record the start time \n",
    "start_time = time.time()\n",
    "\n",
    "#call the function to find the minimum cost, theta, and the optimal learning rate\n",
    "theta = adaptive_optimum(init_theta,gamma,t,precision)\n",
    "\n",
    "#print out the time used for calculation \n",
    "print(\"the calculation takes \", time.time()-start_time, \" seconds.\")\n"
   ]
  },
  {
   "cell_type": "code",
   "execution_count": 20,
   "metadata": {
    "collapsed": true
   },
   "outputs": [],
   "source": [
    "#create the functions we need for calcuating theta\n",
    "\n",
    "# error = y_i - y_hat_i\n",
    "def error(theta, x_i, y_i):\n",
    "    return y_i - (theta[0] + theta[1]*x_i)\n",
    "\n",
    "# SSE (sum squared error)\n",
    "def calculate_SSE(theta):\n",
    "    return sum(error(theta, x_i, y_i)**2 for x_i, y_i in data)\n",
    "\n",
    "# update theta based on -2*gamma*partialDerivative\n",
    "def update_theta(theta, gamma):\n",
    "    gradient=[0,0]\n",
    "    gradient[0] = -2*sum(error(theta,x_i,y_i) for x_i, y_i in data)\n",
    "    gradient[1] = -2*sum(error(theta,x_i,y_i)*x_i for x_i, y_i in data)\n",
    "    return  [theta[0]-gamma*gradient[0], theta[1]-gamma*gradient[1]]\n",
    "\n",
    "#Gradient Descent method \n",
    "#input: original theta, gamma=1, t=0.9, precision =1\n",
    "#output: return converged theta\n",
    "def adaptive_optimum(theta, gamma, t, precision):\n",
    "    #infinite loop\n",
    "    while True:\n",
    "        #shrink gamma by t in each iteration\n",
    "        gamma *=t\n",
    "        #get the current SSE based on theta\n",
    "        old_SSE = calculate_SSE(theta)\n",
    "        #try to update theta 10 times\n",
    "        for i in range(10):\n",
    "            temp_theta =update_theta(theta, gamma) \n",
    "        #after 10 loops if the new SSE doesn't converge    \n",
    "        new_SSE_10 = calculate_SSE(temp_theta)\n",
    "        if new_SSE_10 > old_SSE:  # not shrinking\n",
    "            #stop the current iteration\n",
    "            continue\n",
    "        #if SSE started to converge\n",
    "        else:\n",
    "            #try a large or infinite loop\n",
    "            for i in range(100000):\n",
    "                #update theta\n",
    "                theta =update_theta(theta, gamma) \n",
    "                #caculate SSE after the update\n",
    "                new_SSE = calculate_SSE(theta)\n",
    "                #if the different of the updated SSE is less than $1\n",
    "                if abs(old_SSE - new_SSE) < precision:\n",
    "                    #print out the optimal values\n",
    "                    print(\"found minimum cost: \", new_SSE)\n",
    "                    print(\"the optimum theta: \", theta)\n",
    "                    print(\"the gamma used : \",gamma)\n",
    "                    #return theta back to funciton call\n",
    "                    return theta"
   ]
  },
  {
   "cell_type": "markdown",
   "metadata": {},
   "source": [
    "## 4. Model Evaluation"
   ]
  },
  {
   "cell_type": "markdown",
   "metadata": {},
   "source": [
    "R_squared shows how much variation of y is explained by the prediction model. \n",
    "${R^2} = \\frac{{Explained\\;Variation}}{{Total\\;Variation}} = 1 - \\frac{{Unexplained\\;Variation}}{{Total\\;Variation}} = 1 - \\frac{{\\sum {{\\left( {{y_i} - \\widehat {{y_i}}} \\right)}^2}}}{{\\sum {{\\left( {{y_i} - \\bar y} \\right)}^2}}}$"
   ]
  },
  {
   "cell_type": "code",
   "execution_count": 35,
   "metadata": {
    "collapsed": false
   },
   "outputs": [
    {
     "data": {
      "text/html": [
       "\n",
       "        <iframe\n",
       "            width=\"1200\"\n",
       "            height=\"300\"\n",
       "            src=\"https://en.wikipedia.org/wiki/Coefficient_of_determination\"\n",
       "            frameborder=\"0\"\n",
       "            allowfullscreen\n",
       "        ></iframe>\n",
       "        "
      ],
      "text/plain": [
       "<IPython.lib.display.IFrame at 0xb58fa90>"
      ]
     },
     "execution_count": 35,
     "metadata": {},
     "output_type": "execute_result"
    }
   ],
   "source": [
    "#R_squared explained\n",
    "from IPython.display import IFrame\n",
    "IFrame('https://en.wikipedia.org/wiki/Coefficient_of_determination', width=1200, height=300)"
   ]
  },
  {
   "cell_type": "code",
   "execution_count": 37,
   "metadata": {
    "collapsed": false
   },
   "outputs": [
    {
     "data": {
      "image/jpeg": "[encoded data removed]",
      "text/html": [
       "\n",
       "        <iframe\n",
       "            width=\"400\"\n",
       "            height=\"300\"\n",
       "            src=\"https://www.youtube.com/embed/IMjrEeeDB-Y\"\n",
       "            frameborder=\"0\"\n",
       "            allowfullscreen\n",
       "        ></iframe>\n",
       "        "
      ],
      "text/plain": [
       "<IPython.lib.display.YouTubeVideo at 0xb0152e8>"
      ]
     },
     "execution_count": 37,
     "metadata": {},
     "output_type": "execute_result"
    }
   ],
   "source": [
    "#R_squared explained on YouTube\n",
    "from IPython.display import YouTubeVideo\n",
    "YouTubeVideo('IMjrEeeDB-Y')"
   ]
  },
  {
   "cell_type": "code",
   "execution_count": 22,
   "metadata": {
    "collapsed": false
   },
   "outputs": [
    {
     "name": "stdout",
     "output_type": "stream",
     "text": [
      "0.828369524951\n"
     ]
    }
   ],
   "source": [
    "#calculate R_squared\n",
    "\n",
    "#y_hat: predicted values\n",
    "y_hat = [(theta[0]+theta[1]*x) for x in years]\n",
    "\n",
    "# the total error \n",
    "u=sum((salary-y_hat)**2)\n",
    "\n",
    "# residual error\n",
    "y_mean = sum(salary)/len(salary)\n",
    "v=sum((salary-y_mean)**2)\n",
    "\n",
    "# r_squared is 1-u/v\n",
    "R_squared = (1-u/v)\n",
    "print(R_squared)"
   ]
  },
  {
   "cell_type": "markdown",
   "metadata": {},
   "source": [
    "# Reflection 1. \n",
    "\n",
    "We used gradient descent method to find the optimal theta. We also learned what R_squared means. \n",
    "Will the optimal theta gives us the best model or highest R_squared? \n",
    "The answer is ...  it depends\n",
    "How about our X and y don't have a linear relationship? \n",
    "How about the data is noisy or with outliers? \n",
    "How about there are other parameters we need to take consideration? \n",
    "We will deal with these advanced topics in a future module.\n",
    "\n",
    "\n",
    "Everything seems to work perfectly so far. We got the best model from training the data. \n",
    "One thing that may cause concern is the computing speed. We've got a fairly small dataset, 80 data points. \n",
    "It took us more than 20 seconds to find the calculate (the time varies on different computers). \n",
    "\n",
    "How about we are processing a dataset with 90000 data points? How about 9billion data points? \n",
    "The computation may take for ever. We can test it by extending the range of X in this example\n",
    "although we don't expect some one to have 90000 years of work experience and earn billions of dollars a year.\n",
    "\n",
    "Remember in a previous module, we learn numpy's matrix operation capacity. numpy is optimized for vector and matrix\n",
    "calculation through numpy.dot() function. If we can convert all the loops in our program to numpy.dot() operation, \n",
    "the program will run much faster. This process is called vectorization. "
   ]
  },
  {
   "cell_type": "markdown",
   "metadata": {},
   "source": [
    "# Reflection 2. \n",
    "Everything seems to work perfectly so far. We got the best model from training the data. \n",
    "One thing that may cause concern is the computing speed. We've got a fairly small dataset, 80 data points. \n",
    "It took us more than 20 seconds to calculate the result (the time varies on different computers). \n",
    "\n",
    "How about we are processing a dataset with 90000 data points? How about 9billion data points? \n",
    "The computation may take forever. We can test it by extending the range of X in this example\n",
    "although we don't expect someone to have 90000 years of work experience and earn billions of dollars a year. \n",
    "\n",
    "<br>\n",
    "<b> So, how do we improve the speed of calculation? </b> <br>\n",
    "\n",
    "Remember in a previous module, we learn numpy's matrix operation capacity. numpy is optimized for vector and matrix calculation through numpy.dot() function. If we can convert all the loops in our program to numpy.dot() operation, the program will run much faster. This process is called <b> vectorization </b>.\n"
   ]
  },
  {
   "cell_type": "markdown",
   "metadata": {},
   "source": [
    "### 1. Matrix Dot Product"
   ]
  },
  {
   "cell_type": "code",
   "execution_count": 34,
   "metadata": {
    "collapsed": false
   },
   "outputs": [
    {
     "data": {
      "text/html": [
       "\n",
       "        <iframe\n",
       "            width=\"1200\"\n",
       "            height=\"300\"\n",
       "            src=\"https://en.wikipedia.org/wiki/Matrix_multiplication#Illustration\"\n",
       "            frameborder=\"0\"\n",
       "            allowfullscreen\n",
       "        ></iframe>\n",
       "        "
      ],
      "text/plain": [
       "<IPython.lib.display.IFrame at 0xb58fa58>"
      ]
     },
     "execution_count": 34,
     "metadata": {},
     "output_type": "execute_result"
    }
   ],
   "source": [
    "#R_squared explained\n",
    "from IPython.display import IFrame\n",
    "IFrame('https://en.wikipedia.org/wiki/Matrix_multiplication#Illustration', width=1200, height=300)\n"
   ]
  },
  {
   "cell_type": "code",
   "execution_count": 23,
   "metadata": {
    "collapsed": false
   },
   "outputs": [
    {
     "name": "stdout",
     "output_type": "stream",
     "text": [
      "(2,)\n",
      "(80,)\n",
      "1\n",
      "(80, 1)\n",
      "[[ 1.   0. ]\n",
      " [ 1.   0.5]\n",
      " [ 1.   1. ]]\n"
     ]
    }
   ],
   "source": [
    "#convert theta and y lists to numpy arrays\n",
    "theta = np.array(theta)\n",
    "print(theta.shape)\n",
    "y=np.array(salary)\n",
    "\n",
    "#convert X to a nX2 matrix, n is the number samples, and the first column of X is 1\n",
    "X = np.array(years)\n",
    "print(X.shape)\n",
    "print(X.ndim)\n",
    "\n",
    "#Create a ones vector\n",
    "ones = np.ones((X.shape[0],1))\n",
    "print(ones.shape)\n",
    "\n",
    "#make ones the first vector/column in X \n",
    "X = np.reshape(X, (X.shape[0],1))\n",
    "X = np.concatenate((ones,X),axis=1)\n",
    "print(X[0:3, :])"
   ]
  },
  {
   "cell_type": "code",
   "execution_count": 24,
   "metadata": {
    "collapsed": false
   },
   "outputs": [
    {
     "name": "stdout",
     "output_type": "stream",
     "text": [
      "0.828369524951\n"
     ]
    }
   ],
   "source": [
    "#calculate R_squared\n",
    "\n",
    "#let's create our X, y, theta and y_hat matrices or vectors \n",
    "\n",
    "#y_hat: predicted values\n",
    "#y_hat = [(theta[0]+theta[1]*x) for x in years]\n",
    "y_hat = X.dot(theta)  #nx2 * 2x1 --> nx1\n",
    "\n",
    "# the total error \n",
    "u=((y-y_hat)**2).sum()\n",
    "\n",
    "# residual error\n",
    "v=((y-y.mean())**2).sum()\n",
    "\n",
    "# r_squared is 1-u/v\n",
    "R_squared = (1-u/v)\n",
    "print(R_squared)"
   ]
  },
  {
   "cell_type": "markdown",
   "metadata": {},
   "source": [
    "### Great! We got the same result! But... What's the point? \n",
    "\n",
    "### Let's compare the two methods of calculating R_squred"
   ]
  },
  {
   "cell_type": "code",
   "execution_count": 32,
   "metadata": {
    "collapsed": false
   },
   "outputs": [
    {
     "name": "stdout",
     "output_type": "stream",
     "text": [
      "the calculation without vectorization takes  9.83356237411499  seconds.\n",
      "0.828369524951\n"
     ]
    }
   ],
   "source": [
    "#calculate R_squared\n",
    "\n",
    "start_time = time.time()\n",
    "#repeat the calculation for a number of times \n",
    "for _ in range(100000):\n",
    "    #y_hat: predicted values\n",
    "    y_hat = [(theta[0]+theta[1]*x) for x in years]\n",
    "\n",
    "    # the total error \n",
    "    u=sum((salary-y_hat)**2)\n",
    "\n",
    "    # residual error\n",
    "    y_mean = sum(salary)/len(salary)\n",
    "    v=sum((salary-y_mean)**2)\n",
    "\n",
    "    # r_squared is 1-u/v\n",
    "    R_squared = (1-u/v)\n",
    "print(\"the calculation without vectorization takes \", time.time()-start_time, \" seconds.\")\n",
    "print(R_squared)"
   ]
  },
  {
   "cell_type": "code",
   "execution_count": 33,
   "metadata": {
    "collapsed": false
   },
   "outputs": [
    {
     "name": "stdout",
     "output_type": "stream",
     "text": [
      "the calculation with vectorization takes  3.6382081508636475  seconds.\n",
      "0.828369524951\n"
     ]
    }
   ],
   "source": [
    "\n",
    "start_time = time.time()\n",
    "for _ in range(100000):\n",
    "    \n",
    "    #y_hat: predicted values\n",
    "    #y_hat = [(theta[0]+theta[1]*x) for x in years]\n",
    "    y_hat = X.dot(theta)  #nx2 * 2x1 --> nx1\n",
    "\n",
    "    # the total error \n",
    "    u=((y-y_hat)**2).sum()\n",
    "\n",
    "    # residual error\n",
    "    v=((y-y.mean())**2).sum()\n",
    "\n",
    "    # r_squared is 1-u/v\n",
    "    R_squared = (1-u/v)\n",
    "print(\"the calculation with vectorization takes \", time.time()-start_time, \" seconds.\")\n",
    "print(R_squared)"
   ]
  },
  {
   "cell_type": "markdown",
   "metadata": {},
   "source": [
    "## We can see that vectorization improved the speed by A LOT. \n",
    "\n",
    "\n",
    "\n"
   ]
  },
  {
   "cell_type": "markdown",
   "metadata": {},
   "source": [
    "# Assignment: Vectorize the adaptive_optimum() function"
   ]
  },
  {
   "cell_type": "code",
   "execution_count": 27,
   "metadata": {
    "collapsed": false
   },
   "outputs": [
    {
     "name": "stdout",
     "output_type": "stream",
     "text": [
      "found minimum cost:  7684735996.85\n",
      "the optimum theta:  [79958.203991839735, 1864.8714513134064]\n",
      "8.335248417898115e-06\n",
      "the calculation takes  5.06028938293457  seconds.\n"
     ]
    }
   ],
   "source": [
    "#now, let's call a vectorized function\n",
    "init_theta=[1,1]\n",
    "gamma = 1\n",
    "t=0.9\n",
    "precision =1\n",
    "\n",
    "#print out the time used for computing\n",
    "start_time = time.time()\n",
    "#call the vectorized function\n",
    "theta = vectorized_adaptive_optimum(init_theta,gamma,t,precision)\n",
    "print(\"the calculation takes \", time.time()-start_time, \" seconds.\")\n",
    "\n",
    "#hey! we cut the computation time by more than 50%. If it's a large dataset, we\n",
    "#will probably see a better result. \n"
   ]
  },
  {
   "cell_type": "code",
   "execution_count": 26,
   "metadata": {
    "collapsed": true
   },
   "outputs": [],
   "source": [
    "def vectorized_calculate_SSE(theta):\n",
    "    \n",
    "    \n",
    "    return sum((y - X.dot(theta))**2)\n",
    "\n",
    "def vectorized_update_theta(theta, gamma):\n",
    "    gradient=[0,0]\n",
    "    \n",
    "    #Calculate gradient without using for or any loop structure\n",
    "    #Use numpy's .dot() for matrix multiplication only\n",
    "    #################################################\n",
    "    ####  Add Your Code Here ########################\n",
    "    #gradient[0] = \n",
    "    #gradient[1] = \n",
    "    #################################################\n",
    "    #################################################\n",
    "    #################################################\n",
    "    \n",
    "    return  [theta[0]-gamma*gradient[0], theta[1]-gamma*gradient[1]]\n",
    "\n",
    "def vectorized_adaptive_optimum(theta, gamma, t, precision):\n",
    "    \n",
    "    while True:\n",
    "        gamma *=t\n",
    "        old_SSE = vectorized_calculate_SSE(theta)\n",
    "        for i in range(10):\n",
    "            temp_theta =vectorized_update_theta(theta, gamma) \n",
    "            \n",
    "        new_SSE = calculate_SSE(temp_theta)\n",
    "        if new_SSE > old_SSE:  # not shrinking\n",
    "            continue\n",
    "        \n",
    "        else:\n",
    "            for i in range(100000):\n",
    "                theta =vectorized_update_theta(theta, gamma) \n",
    "                new_SSE = vectorized_calculate_SSE(theta)\n",
    "                if abs(old_SSE - new_SSE) < precision:\n",
    "                    print(\"found minimum cost: \", new_SSE)\n",
    "                    print(\"the optimum theta: \", theta)\n",
    "                    print(gamma)\n",
    "                    return theta"
   ]
  },
  {
   "cell_type": "markdown",
   "metadata": {},
   "source": [
    "# Let's try Sklearn Package"
   ]
  },
  {
   "cell_type": "code",
   "execution_count": 28,
   "metadata": {
    "collapsed": false
   },
   "outputs": [
    {
     "name": "stdout",
     "output_type": "stream",
     "text": [
      "Intercept: \n",
      " 79958.2039918\n",
      "Coefficients: \n",
      " [    0.          1864.87145131]\n",
      "the calculation takes  0.02800154685974121  seconds.\n",
      "0.828369524951\n"
     ]
    }
   ],
   "source": [
    "from sklearn import linear_model\n",
    "#we can see that the available library is very efficent\n",
    "\n",
    "start_time = time.time()\n",
    "\n",
    "model = linear_model.LinearRegression()\n",
    "model.fit(X, y)\n",
    "print('Intercept: \\n', model.intercept_)\n",
    "print('Coefficients: \\n', model.coef_)\n",
    "print(\"the calculation takes \", time.time()-start_time, \" seconds.\")\n",
    "print(model.score(X, y))"
   ]
  },
  {
   "cell_type": "markdown",
   "metadata": {},
   "source": [
    "# wow! Sklearn is so fast. \n",
    "1. The package optimized the calculation through vectorization.\n",
    "2. It uses highly efficient algorithms comparing to ours \n",
    "3. It uses a better way to find the optimal gamma. Remember the backtracking method is not optimized? "
   ]
  },
  {
   "cell_type": "markdown",
   "metadata": {},
   "source": [
    "# Finally, we plot out model "
   ]
  },
  {
   "cell_type": "code",
   "execution_count": 73,
   "metadata": {
    "collapsed": false
   },
   "outputs": [
    {
     "data": {
      "image/png": "[encoded data removed]",
      "text/plain": [
       "<matplotlib.figure.Figure at 0xc476b70>"
      ]
     },
     "metadata": {},
     "output_type": "display_data"
    }
   ],
   "source": [
    "plt.title(\"Experience vs. Salary\")\n",
    "plt.xlabel('Years of Experience (Years)')\n",
    "plt.ylabel('Salary ($)')\n",
    "plt.grid(True)\n",
    "plt.xlim(0,40)\n",
    "plt.ylim(45000,180000)\n",
    "plt.scatter(years, salary)\n",
    "\n",
    "\n",
    "####################################################\n",
    "####Type your code here to see the ################# \n",
    "####prediction line in the diagram (one line) ######\n",
    "####################################################\n",
    "####################################################\n",
    "plt.show()"
   ]
  },
  {
   "cell_type": "code",
   "execution_count": null,
   "metadata": {
    "collapsed": true
   },
   "outputs": [],
   "source": []
  }
 ],
 "metadata": {
  "kernelspec": {
   "display_name": "Python [Root]",
   "language": "python",
   "name": "Python [Root]"
  },
  "language_info": {
   "codemirror_mode": {
    "name": "ipython",
    "version": 3
   },
   "file_extension": ".py",
   "mimetype": "text/x-python",
   "name": "python",
   "nbconvert_exporter": "python",
   "pygments_lexer": "ipython3",
   "version": "3.5.2"
  }
 },
 "nbformat": 4,
 "nbformat_minor": 1
}
