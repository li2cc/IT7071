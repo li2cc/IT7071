{
 "cells": [
  {
   "cell_type": "markdown",
   "metadata": {},
   "source": [
    "# Gradient Descent\n",
    "\n",
    "This notebook explains the concepts of Gradient Descent, an optimization method. It updates the distribution of x by the gradient at x with a learning rate gamma  (-gamma*d(f)). \n",
    "\n",
    "http://www.onmyphd.com/?p=gradient.descent\n"
   ]
  },
  {
   "cell_type": "code",
   "execution_count": 162,
   "metadata": {
    "collapsed": false
   },
   "outputs": [
    {
     "data": {
      "text/html": [
       "<img src=\"http://www.themathpage.com/acalc/calc_IMG/004.png\"/>"
      ],
      "text/plain": [
       "<IPython.core.display.Image object>"
      ]
     },
     "execution_count": 162,
     "metadata": {},
     "output_type": "execute_result"
    }
   ],
   "source": [
    "# Let's understand the algorithm\n",
    "from IPython.display import Image\n",
    "from IPython.core.display import HTML \n",
    "Image(url='http://www.themathpage.com/acalc/calc_IMG/004.png') "
   ]
  },
  {
   "cell_type": "code",
   "execution_count": 163,
   "metadata": {
    "collapsed": true
   },
   "outputs": [],
   "source": [
    "#Let's create an example\n",
    "import numpy as np\n",
    "from matplotlib import pyplot as plt\n",
    "import seaborn as sns\n",
    "%matplotlib inline"
   ]
  },
  {
   "cell_type": "code",
   "execution_count": 164,
   "metadata": {
    "collapsed": true
   },
   "outputs": [],
   "source": [
    "#Define x and f(x)\n",
    "x=np.arange(-10, 50, 0.1)\n",
    "def f(x):\n",
    "    return (x-20)**2+100"
   ]
  },
  {
   "cell_type": "code",
   "execution_count": 165,
   "metadata": {
    "collapsed": false,
    "scrolled": false
   },
   "outputs": [
    {
     "data": {
      "text/plain": [
       "[<matplotlib.lines.Line2D at 0xe65bba8>]"
      ]
     },
     "execution_count": 165,
     "metadata": {},
     "output_type": "execute_result"
    },
    {
     "data": {
      "image/png": "[encoded data removed]",
      "text/plain": [
       "<matplotlib.figure.Figure at 0xd4447b8>"
      ]
     },
     "metadata": {},
     "output_type": "display_data"
    }
   ],
   "source": [
    "#plot x vs. f(x)\n",
    "plt.plot(x,f(x))"
   ]
  },
  {
   "cell_type": "code",
   "execution_count": 167,
   "metadata": {
    "collapsed": true
   },
   "outputs": [],
   "source": [
    "#find the derivative \n",
    "def df(x):\n",
    "    return 2*(x-20)"
   ]
  },
  {
   "cell_type": "code",
   "execution_count": 168,
   "metadata": {
    "collapsed": false
   },
   "outputs": [
    {
     "data": {
      "text/html": [
       "<img src=\"http://www.mathscoop.com/images/derivative-of-function-chart.gif\"/>"
      ],
      "text/plain": [
       "<IPython.core.display.Image object>"
      ]
     },
     "execution_count": 168,
     "metadata": {},
     "output_type": "execute_result"
    }
   ],
   "source": [
    "#In case you forget\n",
    "Image(url='http://www.mathscoop.com/images/derivative-of-function-chart.gif')"
   ]
  },
  {
   "cell_type": "code",
   "execution_count": 169,
   "metadata": {
    "collapsed": true
   },
   "outputs": [],
   "source": [
    "#set gamma to 0.1 and x_new to 50 to see the general case\n",
    "#set gamma to 0.3 and x_new to 50 to see the general case with separated plots\n",
    "#set gamma to 0.9 and x_new = 50 to see the converged case\n",
    "#set gamma to 1.05 and x_new = 30 to see the unconverged case\n",
    "x_old = 0 # The value does not matter as long as abs(x_new - x_old) > precision\n",
    "x_new = 50 # The algorithm starts at x=50\n",
    "#gamma = 0.01 # step size\n",
    "gamma = 0.3\n",
    "precision = 0.00001"
   ]
  },
  {
   "cell_type": "code",
   "execution_count": 170,
   "metadata": {
    "collapsed": false
   },
   "outputs": [
    {
     "name": "stdout",
     "output_type": "stream",
     "text": [
      "[50, 32.0, 24.8, 21.92, 20.768, 20.3072, 20.122880000000002, 20.049152, 20.0196608, 20.00786432, 20.003145728, 20.0012582912, 20.00050331648, 20.000201326592, 20.0000805306368, 20.00003221225472, 20.00001288490189, 20.000005153960757]\n"
     ]
    }
   ],
   "source": [
    "#Implement the algorithm\n",
    "\n",
    "#store each update in x_search\n",
    "x_search = [x_new]\n",
    "\n",
    "#keep searchhing until the values converge within the precision\n",
    "while abs(x_new - x_old) > precision:\n",
    "    x_old = x_new\n",
    "    #update. \"negative\"\n",
    "    x_new += -gamma * df(x_old)\n",
    "    #record the udpates\n",
    "    x_search.append(x_new)\n",
    "print(x_search)"
   ]
  },
  {
   "cell_type": "code",
   "execution_count": 171,
   "metadata": {
    "collapsed": false
   },
   "outputs": [
    {
     "name": "stdout",
     "output_type": "stream",
     "text": [
      "The local minimum occurs at 20.000005\n"
     ]
    }
   ],
   "source": [
    "#print out the optimum value\n",
    "print(\"The local minimum occurs at %f\" % x_new)"
   ]
  },
  {
   "cell_type": "code",
   "execution_count": 9,
   "metadata": {
    "collapsed": false
   },
   "outputs": [],
   "source": [
    "#plot the updates\n",
    "x_search = np.array(x_search)\n",
    "y_search = (x_search-20)**2+100"
   ]
  },
  {
   "cell_type": "code",
   "execution_count": 10,
   "metadata": {
    "collapsed": false
   },
   "outputs": [
    {
     "data": {
      "text/plain": [
       "[<matplotlib.lines.Line2D at 0xb75e5c0>]"
      ]
     },
     "execution_count": 10,
     "metadata": {},
     "output_type": "execute_result"
    },
    {
     "data": {
      "image/png": "[encoded data removed]",
      "text/plain": [
       "<matplotlib.figure.Figure at 0xb75eb00>"
      ]
     },
     "metadata": {},
     "output_type": "display_data"
    }
   ],
   "source": [
    "plt.plot(x,y)\n",
    "plt.plot(x_search,y_search)"
   ]
  },
  {
   "cell_type": "code",
   "execution_count": 12,
   "metadata": {
    "collapsed": true
   },
   "outputs": [],
   "source": [
    "#let's summarize \n",
    "#if we can to find the minmum of a function f(x)\n",
    "#We need f(x) -> y and dx, learning rate gamma \n",
    "#x_new = x_old - gamma*dx \n",
    "\n",
    "#now let's think about linear regression case\n",
    "#theta0+theta1* x = y\n",
    "#the function we want to minimize is (y-y_hat)**2 which is our f(x)\n",
    "#out x in this case is [theta0, theta1]\n",
    "#dx is partial derivatives of d_theta0, and d_theta_1\n",
    "#d_theta0  = 2(y-y_hat)\n",
    "#d_theta1 = 2(y-y_hat)*x\n",
    "#theta0_new = theta0_old - 2(y-y_hat)*gamma  (y-y_hat) is the error\n",
    "#theta1_new = theta1_old - 2*(y-y_hat)*gamma\n",
    "\n"
   ]
  },
  {
   "cell_type": "code",
   "execution_count": 13,
   "metadata": {
    "collapsed": true
   },
   "outputs": [],
   "source": [
    "t1=np.arange(-10, 50, 0.1)\n",
    "t2=np.arange(-600, 0, 1)\n",
    "E_t = (t1-20)**2 + (t2+300)**2 +10000"
   ]
  },
  {
   "cell_type": "code",
   "execution_count": 14,
   "metadata": {
    "collapsed": true
   },
   "outputs": [],
   "source": [
    "t_old = [0,0] # The value does not matter as long as abs(x_new - x_old) > precision\n",
    "t_new = [50,-600] # The algorithm starts at x=6\n",
    "#gamma = 0.01 # step size\n",
    "gamma = 0.1\n",
    "precision = 0.000001"
   ]
  },
  {
   "cell_type": "code",
   "execution_count": 15,
   "metadata": {
    "collapsed": true
   },
   "outputs": [],
   "source": [
    "def dt1(t1):\n",
    "    return 2*(t1-20)\n",
    "def dt2(t2):\n",
    "    return 2*(t2+300)"
   ]
  },
  {
   "cell_type": "code",
   "execution_count": 16,
   "metadata": {
    "collapsed": false
   },
   "outputs": [
    {
     "name": "stdout",
     "output_type": "stream",
     "text": [
      "The local minimum occurs at  [20.00034253944625, -300.00342539446245]\n",
      "10000.000011850661\n"
     ]
    }
   ],
   "source": [
    "#t_search = [x_old]\n",
    "\n",
    "t1_new = t_new[0]\n",
    "t2_new = t_new[1]\n",
    "while (t_new[0]-t_old[0])**2 +(t_new[1]-t_old[1])**2 > precision:\n",
    "#for i in range(10000):\n",
    "    t_old = t_new\n",
    "    t1_new += -gamma * dt1(t_old[0])\n",
    "    t2_new += -gamma * dt2(t_old[1])\n",
    "    t_new = [t1_new, t2_new]\n",
    "    \n",
    "    \n",
    "    #x_search.append(x_new)\n",
    "print(\"The local minimum occurs at \", t_new)\n",
    "print((t1_new-20)**2 + (t2_new+300)**2 +10000)"
   ]
  },
  {
   "cell_type": "markdown",
   "metadata": {},
   "source": [
    "### Let's review another example and extend it to our assignment. Find the minimum of f(x)\n",
    "## $$f(x) = x^4+200x^2+10000 $$"
   ]
  },
  {
   "cell_type": "code",
   "execution_count": 173,
   "metadata": {
    "collapsed": false
   },
   "outputs": [
    {
     "data": {
      "text/latex": [
       "$$f(x) = x^4+200x^2+10000$$"
      ],
      "text/plain": [
       "<IPython.core.display.Math object>"
      ]
     },
     "metadata": {},
     "output_type": "display_data"
    }
   ],
   "source": [
    "#in case you want to add a math formula in your report, python can do it.\n",
    "from IPython.display import display, Math, Latex\n",
    "display(Math(r'f(x) = x^4+200x^2+10000'))"
   ]
  },
  {
   "cell_type": "code",
   "execution_count": 185,
   "metadata": {
    "collapsed": true
   },
   "outputs": [],
   "source": [
    "x=np.arange(-120, 80, 0.1)"
   ]
  },
  {
   "cell_type": "code",
   "execution_count": 186,
   "metadata": {
    "collapsed": false
   },
   "outputs": [],
   "source": [
    "def f(x): \n",
    "    return (x)**4 + 200*(x+2000)**2 + 10000"
   ]
  },
  {
   "cell_type": "code",
   "execution_count": 187,
   "metadata": {
    "collapsed": false
   },
   "outputs": [
    {
     "data": {
      "text/plain": [
       "[<matplotlib.lines.Line2D at 0x21334320>]"
      ]
     },
     "execution_count": 187,
     "metadata": {},
     "output_type": "execute_result"
    },
    {
     "data": {
      "image/png": "[encoded data removed]",
      "text/plain": [
       "<matplotlib.figure.Figure at 0x14d095f8>"
      ]
     },
     "metadata": {},
     "output_type": "display_data"
    }
   ],
   "source": [
    "\n",
    "\n",
    "plt.plot(x,f(x))"
   ]
  },
  {
   "cell_type": "code",
   "execution_count": 188,
   "metadata": {
    "collapsed": true
   },
   "outputs": [],
   "source": [
    "#NO SHOW!\n",
    "def derivative(x):\n",
    "    return 4*x**3 + 200*2*(x+2000)"
   ]
  },
  {
   "cell_type": "code",
   "execution_count": 192,
   "metadata": {
    "collapsed": false
   },
   "outputs": [],
   "source": [
    "#NO SHOW!\n",
    "def find_optimum(x_old,x_new,gamma,precisions):\n",
    "    #store each update in x_search\n",
    "    x_search = [x_new]\n",
    "\n",
    "    #keep searchhing until the values converge within the precision\n",
    "    while abs(x_new - x_old) > precision:\n",
    "        x_old = x_new\n",
    "        #update. \"negative\"\n",
    "        x_new += -gamma * derivative(x_old)\n",
    "        #record the udpates\n",
    "        x_search.append(x_new)\n",
    "\n",
    "    print(len(x_search),\" iternations\")\n",
    "    print(\"The local minimum occurs at %f\" % x_new)\n",
    "    print(\"gamme = \", gamma)\n",
    "    plt.plot([f(x) for x in x_search])"
   ]
  },
  {
   "cell_type": "code",
   "execution_count": 204,
   "metadata": {
    "collapsed": false
   },
   "outputs": [
    {
     "name": "stdout",
     "output_type": "stream",
     "text": [
      "779  iternations\n",
      "The local minimum occurs at -57.910381\n",
      "gamme =  1e-06\n",
      "found 4.4981962247603756e-05\n",
      "-57.91038100742448\n"
     ]
    },
    {
     "data": {
      "image/png": "[encoded data removed]",
      "text/plain": [
       "<matplotlib.figure.Figure at 0x14ed0828>"
      ]
     },
     "metadata": {},
     "output_type": "display_data"
    }
   ],
   "source": [
    "x_old = 70 # The value does not matter as long as abs(x_new - x_old) > precision\n",
    "x_new = 50 # The algorithm starts at x=6\n",
    "gamma = 1 # step size\n",
    "gamma = 0.000001\n",
    "precision = 1e-12\n",
    "find_optimum(x_old,x_new,gamma,precision)\n"
   ]
  },
  {
   "cell_type": "code",
   "execution_count": null,
   "metadata": {
    "collapsed": true
   },
   "outputs": [],
   "source": [
    "#Idealy, we want to automatically find the right gamma\n",
    "#read http://www.onmyphd.com/?p=gradient.descent\n",
    "#use backtracking method and create t\n",
    "\n",
    "#shrinking rate of gamma\n",
    "t=0.9\n",
    "#we can start with a large positive gamma\n",
    "gamma = 1\n",
    "#call the function\n",
    "adaptive_optimum(x_old, x_new, gamma, t, precision)\n",
    "\n",
    "#hints\n",
    "#1. We can simply create a list of gamma and try them because f(x) \n",
    "    #may increase too fast and generate \"value too large\" error\n",
    "#2. Use try and exception to eleminate the gamma that create errors\n",
    "#3. Set a fixed number of updates, say 1000. See if updates converge into precision"
   ]
  },
  {
   "cell_type": "code",
   "execution_count": 203,
   "metadata": {
    "collapsed": false
   },
   "outputs": [],
   "source": [
    "#NO SHOW\n",
    "def adaptive_optimum(x_old, x_new, gamma, t, precision):\n",
    "    nextIter = True\n",
    "    while nextIter:\n",
    "        gamma *=t\n",
    "        a = x_old \n",
    "        b = x_new\n",
    "        for i in range(1000):\n",
    "            a = b\n",
    "            try:\n",
    "                b -= gamma * derivative(b)\n",
    "                if abs(b-a) < precision:\n",
    "                    print(\"found\", gamma)\n",
    "                    print(b)\n",
    "                    nextIter = False\n",
    "                    break\n",
    "\n",
    "            except:\n",
    "                #print(\"value too large\", gamma)            \n",
    "                break \n",
    "    "
   ]
  },
  {
   "cell_type": "code",
   "execution_count": 159,
   "metadata": {
    "collapsed": false
   },
   "outputs": [
    {
     "name": "stdout",
     "output_type": "stream",
     "text": [
      "765599134.8080999\n",
      "765599132.6183898\n",
      "765599132.6183875\n",
      "765599132.6183875\n"
     ]
    }
   ],
   "source": [
    "print(f(-57.9))\n",
    "print(f(-57.910370547942904))\n",
    "print(f(-57.9103810449594))\n",
    "print(f(-57.91038100746729))"
   ]
  },
  {
   "cell_type": "code",
   "execution_count": null,
   "metadata": {
    "collapsed": true
   },
   "outputs": [],
   "source": []
  }
 ],
 "metadata": {
  "anaconda-cloud": {},
  "kernelspec": {
   "display_name": "Python [conda root]",
   "language": "python",
   "name": "conda-root-py"
  },
  "language_info": {
   "codemirror_mode": {
    "name": "ipython",
    "version": 3
   },
   "file_extension": ".py",
   "mimetype": "text/x-python",
   "name": "python",
   "nbconvert_exporter": "python",
   "pygments_lexer": "ipython3",
   "version": "3.5.2"
  }
 },
 "nbformat": 4,
 "nbformat_minor": 1
}
