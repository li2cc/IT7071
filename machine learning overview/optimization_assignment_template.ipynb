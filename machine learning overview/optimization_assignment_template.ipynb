{
 "cells": [
  {
   "cell_type": "markdown",
   "metadata": {},
   "source": [
    "# Template: Find the minimum of a function f(x)\n",
    "\n",
    "### The model should automatically set the optimal learning rate gamma\n",
    "\n",
    "\n",
    "\n",
    "\n",
    "### Find the minimum of \n",
    "## $$f(x) = x^4+200*(x+2000)^2+10000 $$  <br><br><br>\n",
    "\n",
    "## Type your code in cells 3, 5, 6 and 8\n",
    "### to generate the results in cell 7 and 9 "
   ]
  },
  {
   "cell_type": "code",
   "execution_count": 1,
   "metadata": {
    "collapsed": true
   },
   "outputs": [],
   "source": [
    "#import python packages\n",
    "import numpy as np\n",
    "from matplotlib import pyplot as plt\n",
    "import seaborn as sns\n",
    "%matplotlib inline"
   ]
  },
  {
   "cell_type": "code",
   "execution_count": 2,
   "metadata": {
    "collapsed": false
   },
   "outputs": [],
   "source": [
    "#define the x's range for plotting\n",
    "x=np.arange(-120, 80, 0.1)\n"
   ]
  },
  {
   "cell_type": "code",
   "execution_count": 3,
   "metadata": {
    "collapsed": true
   },
   "outputs": [],
   "source": [
    "#define f(x) based on the function \n",
    "def f(x): \n",
    "    \n",
    "    ########################################\n",
    "    #### Type your code after \"return\"\n",
    "    return \n",
    "    ########################################\n",
    "    ########################################"
   ]
  },
  {
   "cell_type": "code",
   "execution_count": 4,
   "metadata": {
    "collapsed": false
   },
   "outputs": [
    {
     "data": {
      "text/plain": [
       "[<matplotlib.lines.Line2D at 0xab03748>]"
      ]
     },
     "execution_count": 4,
     "metadata": {},
     "output_type": "execute_result"
    },
    {
     "data": {
      "image/png": "[encoded data removed]",
      "text/plain": [
       "<matplotlib.figure.Figure at 0xaa95b00>"
      ]
     },
     "metadata": {},
     "output_type": "display_data"
    }
   ],
   "source": [
    "#plot x vs. f(x)\n",
    "plt.plot(x,f(x))"
   ]
  },
  {
   "cell_type": "markdown",
   "metadata": {},
   "source": [
    "### We can see that the minimun is between f(-50) and f(-100)"
   ]
  },
  {
   "cell_type": "code",
   "execution_count": 5,
   "metadata": {
    "collapsed": true
   },
   "outputs": [],
   "source": [
    "#define the derivative of f(x) over x ---> f'(x)\n",
    "def derivative(x):\n",
    "    ########################################\n",
    "    #### Type your code after \"return\"\n",
    "    return \n",
    "    ########################################\n",
    "    ########################################\n",
    "    "
   ]
  },
  {
   "cell_type": "code",
   "execution_count": 6,
   "metadata": {
    "collapsed": false
   },
   "outputs": [],
   "source": [
    "#define a function to find the minimum of f(x) \n",
    "def find_optimum(x_old,x_new,gamma,precisions):\n",
    "    #store each update in x_search\n",
    "    x_search = [x_new]\n",
    "\n",
    "    \n",
    "    #keep searchhing until the values converge within the precision\n",
    "    \n",
    "    ########################################\n",
    "    #### Type your code after \"whhile\"\n",
    "    while :\n",
    "    ########################################    \n",
    "    \n",
    "        \n",
    "        #use x_old to keep the x value before the update\n",
    "        x_old = x_new\n",
    "        \n",
    "        #update x_new\n",
    "        ###########################################\n",
    "        #### Type your code after x_new =\n",
    "        x_new \n",
    "        ############################################    \n",
    "            \n",
    "        #record the udpates\n",
    "        x_search.append(x_new)\n",
    "    \n",
    "    #print out the result and plot the decreasing trend of f(x) vs iternations\n",
    "    ###############################################\n",
    "    #### Type your code here (multiple lines)\n",
    "    ################################################\n",
    "    "
   ]
  },
  {
   "cell_type": "code",
   "execution_count": 7,
   "metadata": {
    "collapsed": false
   },
   "outputs": [
    {
     "name": "stdout",
     "output_type": "stream",
     "text": [
      "779  iternations\n",
      "The local minimum occurs at -57.910381\n",
      "gamme =  1e-06\n"
     ]
    },
    {
     "data": {
      "image/png": "[encoded data removed]",
      "text/plain": [
       "<matplotlib.figure.Figure at 0xaa95780>"
      ]
     },
     "metadata": {},
     "output_type": "display_data"
    }
   ],
   "source": [
    "#Test the find_optimum() function with the following parameters\n",
    "\n",
    "\n",
    "x_old = 70 # This value doesn't matter, it's just a init value\n",
    "x_new = 50 # This value doesn't matter\n",
    "gamma = 0.000001  #the learning rate is critial, but we have to guess a value now\n",
    "precision = 1e-12 #the precision decides when to stop the search\n",
    "find_optimum(x_old,x_new,gamma,precision)  #call the function \n",
    "\n",
    "###################################################\n",
    "#the results should be similar to what's shown below\n",
    "###################################################"
   ]
  },
  {
   "cell_type": "code",
   "execution_count": 8,
   "metadata": {
    "collapsed": false
   },
   "outputs": [],
   "source": [
    "#create a find_optimum function to automatically set gamma based on \n",
    "#t is the decrease rate of gamma\n",
    "\n",
    "def adaptive_optimum(x_old, x_new, gamma, t, precision):\n",
    "    \n",
    "    #nextIter is the flag for continuing or stopping the loop\n",
    "    nextIter = True\n",
    "    \n",
    "    #keep searching until nextIter is set to false\n",
    "    while nextIter:\n",
    "        \n",
    "        #decrease the value of gamma in each iteration\n",
    "        gamma *=t\n",
    "        \n",
    "        #create a local copy of x_old and x_new in each iteration\n",
    "        #it's because we can want any change to x_new and x_old to \n",
    "        #affect the calculation in the next iternation \n",
    "        x_old_try = x_old \n",
    "        x_new_try = x_new \n",
    "        \n",
    "        #try 10000 times to see if x converges\n",
    "        for i in range(10000):\n",
    "            #use x_old_try to keep the value of x before the update\n",
    "            x_old_try = x_new_try          \n",
    "            \n",
    "            try:\n",
    "                ####################################################\n",
    "                ######type your code here (multiple lines)##########\n",
    "                ###### update x_new_try and compare the change \n",
    "                ###### with the precision \n",
    "                ###### print the \"Found gamma: \" and gamma value\n",
    "                ###### if the update is within the precision \n",
    "                ###### stop the loop and return to function call \n",
    "                ####################################################\n",
    "                \n",
    "                \n",
    "\n",
    "            # if there is an error, such as \"value too large\" error, stop the\n",
    "            # iternation and try next gamma\n",
    "            except:                          \n",
    "                break "
   ]
  },
  {
   "cell_type": "code",
   "execution_count": 9,
   "metadata": {
    "collapsed": false
   },
   "outputs": [
    {
     "name": "stdout",
     "output_type": "stream",
     "text": [
      "Found gamma: \t\t\t4.4982e-05\n",
      "The minimum is at  : \t\tx=-57.91\n",
      "The minimum of f(x) is : \t7.656e+08\n"
     ]
    }
   ],
   "source": [
    "#Idealy, we want to automatically find the right gamma\n",
    "#read http://www.onmyphd.com/?p=gradient.descent\n",
    "#use backtracking method and create t\n",
    "\n",
    "x_old = 70 # This value does not matter \n",
    "x_new = 50 # This value does not matter either\n",
    "\n",
    "#the precision is set to be very high\n",
    "precision = 1e-12\n",
    "\n",
    "#decrease rate of gamma\n",
    "t=0.9\n",
    "\n",
    "#we can start with a large positive gamma close to 1\n",
    "gamma = 1\n",
    "\n",
    "#call the function\n",
    "adaptive_optimum(x_old, x_new, gamma, t, precision)\n",
    "\n",
    "#hints\n",
    "#1. We can simply create a list of gamma and try them because f(x) \n",
    "    #may increase too fast and generate \"value too large\" error\n",
    "#2. Use try and exception to eleminate the gamma that create errors\n",
    "#3. Set a fixed number of updates, say 10000. See if updates converge into precision\n",
    "\n",
    "####################################################\n",
    "# the output should show the best gamma found\n",
    "# and the minimum f(x) value and the corresponding x \n",
    "#####################################################"
   ]
  },
  {
   "cell_type": "code",
   "execution_count": null,
   "metadata": {
    "collapsed": true
   },
   "outputs": [],
   "source": []
  }
 ],
 "metadata": {
  "anaconda-cloud": {},
  "kernelspec": {
   "display_name": "Python [conda root]",
   "language": "python",
   "name": "conda-root-py"
  },
  "language_info": {
   "codemirror_mode": {
    "name": "ipython",
    "version": 3
   },
   "file_extension": ".py",
   "mimetype": "text/x-python",
   "name": "python",
   "nbconvert_exporter": "python",
   "pygments_lexer": "ipython3",
   "version": "3.5.2"
  }
 },
 "nbformat": 4,
 "nbformat_minor": 0
}
