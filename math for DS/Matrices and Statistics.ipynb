{
 "cells": [
  {
   "cell_type": "markdown",
   "metadata": {},
   "source": [
    "# Matrices and Statistics \n",
    "\n",
    "        This module reviews the basic matrix operaton and statistics concepts that are widely used in munipulating, processing, and describing data. The topics in the module may seem discrete and covers a variety of small topics. Students should have been exposed to these topics in high school and college math curiculum. However, you don't have to learn the math again to be data scientist. Python Numpy and Scipy libraries provide rich functions to automat many math operations. The key of this module is to understand the python APIs and when to use them.\n",
    "        \n",
    "        # Numpy (www.numpy.org)\n",
    "NumPy is the fundamental package for scientific computing with Python. It contains among other things:\n",
    "\n",
    "a powerful N-dimensional array object\n",
    "sophisticated (broadcasting) functions\n",
    "tools for integrating C/C++ and Fortran code\n",
    "useful linear algebra, Fourier transform, and random number capabilities\n",
    "Besides its obvious scientific uses, NumPy can also be used as an efficient multi-dimensional container of generic data. Arbitrary data-types can be defined. This allows NumPy to seamlessly and speedily integrate with a wide variety of databases.\n",
    "\n",
    "NumPy is licensed under the BSD license, enabling reuse with few restrictions. \n",
    "        \n",
    "        \n",
    "        # Numpy arrays and scalar\n",
    "        Why do we need arrays while we have python lists\n",
    "        1. efficent operation - smaller storage spaces\n",
    "        2. Uniformed data type in array\n",
    "        3. Vectorization for faster operatoin \n",
    "        \n",
    "        The following is from user forum \n",
    "NumPy's arrays are more compact than Python lists -- a list of lists as you describe, in Python, would take at least 20 MB or so, while a NumPy 3D array with single-precision floats in the cells would fit in 4 MB. Access in reading and writing items is also faster with NumPy.\n",
    "\n",
    "Maybe you don't care that much for just a million cells, but you definitely would for a billion cells -- neither approach would fit in a 32-bit architecture, but with 64-bit builds NumPy would get away with 4 GB or so, Python alone would need at least about 12 GB (lots of pointers which double in size) -- a much costlier piece of hardware!\n",
    "\n",
    "The difference is mostly due to \"indirectness\" -- a Python list is an array of pointers to Python objects, at least 4 bytes per pointer plus 16 bytes for even the smallest Python object (4 for type pointer, 4 for reference count, 4 for value -- and the memory allocators rounds up to 16). A NumPy array is an array of uniform values -- single-precision numbers takes 4 bytes each, double-precision ones, 8 bytes. Less flexible, but you pay substantially for the flexibility of standard Python lists!\n",
    "        \n",
    "        "
   ]
  },
  {
   "cell_type": "code",
   "execution_count": 1,
   "metadata": {
    "collapsed": true
   },
   "outputs": [],
   "source": [
    "# Create and Index numpy arrays "
   ]
  },
  {
   "cell_type": "code",
   "execution_count": 19,
   "metadata": {
    "collapsed": false
   },
   "outputs": [],
   "source": [
    "# Create an array\n",
    "import numpy as np\n",
    "\n",
    "a_array = np.array([1,3,5,7]) #create an array from list\n",
    "a_list = [2,4,6,8]\n",
    "a_array = np.array(a_list)    #convert existing list to array\n",
    "b_list = [1,'bc','3',4]       \n",
    "b_array = np.array(b_list)    #auto conversion to uniform type\n",
    "c_list = [[1,2],3,{1:'4'}]    \n",
    "c_array = np.array(c_list)    #works as list, but won't have computing functions"
   ]
  },
  {
   "cell_type": "code",
   "execution_count": 22,
   "metadata": {
    "collapsed": false
   },
   "outputs": [
    {
     "name": "stdout",
     "output_type": "stream",
     "text": [
      "[2 4 6 8]\n",
      "['1' 'bc' '3' '4']\n",
      "[[1, 2] 3 {1: '4'}]\n",
      "<class 'numpy.ndarray'>\n",
      "(3,)\n",
      "[1, 2]\n"
     ]
    }
   ],
   "source": [
    "print(a_array)\n",
    "print(b_array)\n",
    "print(c_array)\n",
    "print(type(c_array))\n",
    "print(c_array.shape)\n",
    "print(c_array[0])\n"
   ]
  },
  {
   "cell_type": "code",
   "execution_count": 33,
   "metadata": {
    "collapsed": false
   },
   "outputs": [
    {
     "name": "stdout",
     "output_type": "stream",
     "text": [
      "[[[ 0.  0.  0.  0.]\n",
      "  [ 0.  0.  0.  0.]\n",
      "  [ 0.  0.  0.  0.]]\n",
      "\n",
      " [[ 0.  0.  0.  0.]\n",
      "  [ 0.  0.  0.  0.]\n",
      "  [ 0.  0.  0.  0.]]]\n",
      "[[[ 0.  0.  0.  0.]\n",
      "  [ 0.  0.  0.  0.]\n",
      "  [ 0.  0.  0.  0.]]\n",
      "\n",
      " [[ 0.  0.  0.  0.]\n",
      "  [ 0.  0.  0.  0.]\n",
      "  [ 0.  0.  0.  0.]]]\n",
      "[[ 1.  0.  0.]\n",
      " [ 0.  1.  0.]\n",
      " [ 0.  0.  1.]\n",
      " [ 0.  0.  0.]]\n",
      "[[ 1.  0.  0.  0.]\n",
      " [ 0.  1.  0.  0.]\n",
      " [ 0.  0.  1.  0.]\n",
      " [ 0.  0.  0.  1.]]\n",
      "[ 50.   43.7  37.4  31.1  24.8]\n"
     ]
    }
   ],
   "source": [
    "# Create special arrays using built-in functions\n",
    "# empty, eye, identity, ones, zeros, full, arange \n",
    "# https://docs.scipy.org/doc/numpy/reference/routines.array-creation.html#from-existing-data \n",
    "print(np.empty([2,3,4])) # create 2x3x4 dimentional array without value signed  \n",
    "print(np.zeros([2,3,4])) # create 2X3X4 dimentional array and assign 0 to all the 24 elements\n",
    "\n",
    "print(np.eye(4,3))#Return a 2-D array with ones on the diagonal and zeros elsewhere.\n",
    "                  #It's usually an NxN matrix for identity matrix\n",
    "    \n",
    "print(np.identity(4)) #another way to create identity matrix \n",
    "\n",
    "print(np.arange(50,20,-6.3))  #use arrange to create a loop structure list with init, end, and step "
   ]
  },
  {
   "cell_type": "code",
   "execution_count": 43,
   "metadata": {
    "collapsed": false
   },
   "outputs": [
    {
     "name": "stdout",
     "output_type": "stream",
     "text": [
      "[['2' '4' '6' '8']\n",
      " ['1' 'bc' '3' '4']]\n",
      "[[[ 0  1  2  3]\n",
      "  [ 4  5  6  7]\n",
      "  [ 8  9 10 11]]\n",
      "\n",
      " [[12 13 14 15]\n",
      "  [16 17 18 19]\n",
      "  [20 21 22 23]]]\n",
      "[[[ -7.77060740e-01  -1.38009074e+00   1.45284733e+00   7.78311026e-02]\n",
      "  [  7.46712492e-01   2.53943356e-01   1.25493715e+00  -1.13446496e-03]\n",
      "  [  1.20515014e+00  -4.07350395e-01  -1.15876882e+00   2.01962500e-01]]\n",
      "\n",
      " [[  1.14589131e+00   8.68101270e-01   5.77819155e-01   8.47921825e-03]\n",
      "  [ -3.11031567e-01   8.25312802e-01   2.56484017e-01  -2.35505364e-02]\n",
      "  [ -2.72051329e-01   1.02450347e+00  -8.70192680e-01   1.76206143e+00]]]\n"
     ]
    }
   ],
   "source": [
    "# Multi-dimentional arrays\n",
    "\n",
    "# Create the multi-dimentional list first\n",
    "print(np.array([a_array,b_array]))  #conversion to to the same datatype \n",
    "\n",
    "# Create multi-dimnetional array from reshaping a one-dimnetional array\n",
    "print(np.arange(24).reshape(2,3,4))\n",
    "\n",
    "print(np.random.randn(24).reshape(2,3,4))\n",
    "\n"
   ]
  },
  {
   "cell_type": "markdown",
   "metadata": {},
   "source": [
    "# Scalar (not Vector)\n",
    "\n",
    "    \" The quantity is either a vector or a scalar. These two categories can be distinguished from one another by their distinct definitions: Scalars are quantities that are fully described by a magnitude (or numerical value) alone. Vectors are quantities that are fully described by both a magnitude and a direction. Vectors have magnitude and direction, scalars only have magnitude. By definition, speed is the scalar magnitude of a velocity vector. \"\n",
    "    \n",
    "    The scalar here is a one-dimnetional array, a record in a database table. But in other language, vectors and scalars are interchangable. Here, I just want to specify the difference from the definition of these two terms. In data sicnece, a dataset contains multiple scalars (records) in the horizental direction (row direction). The number of rows are the number of records. \n",
    "    \n",
    "    When we imported an n x m dimention array directly from a data file, it usually means that there are n records of m-dimentional scalar. When you operate on arrays, it's good practice to write the shape of the arrays out first. "
   ]
  },
  {
   "cell_type": "code",
   "execution_count": 44,
   "metadata": {
    "collapsed": false
   },
   "outputs": [
    {
     "ename": "TypeError",
     "evalue": "ufunc 'add' did not contain a loop with signature matching types dtype('<U11') dtype('<U11') dtype('<U11')",
     "output_type": "error",
     "traceback": [
      "\u001b[1;31m---------------------------------------------------------------------------\u001b[0m",
      "\u001b[1;31mTypeError\u001b[0m                                 Traceback (most recent call last)",
      "\u001b[1;32m<ipython-input-44-68e93922865a>\u001b[0m in \u001b[0;36m<module>\u001b[1;34m()\u001b[0m\n\u001b[1;32m----> 1\u001b[1;33m \u001b[0mnp\u001b[0m\u001b[1;33m.\u001b[0m\u001b[0madd\u001b[0m\u001b[1;33m(\u001b[0m\u001b[0ma_array\u001b[0m\u001b[1;33m,\u001b[0m\u001b[0mb_array\u001b[0m\u001b[1;33m)\u001b[0m\u001b[1;33m\u001b[0m\u001b[0m\n\u001b[0m",
      "\u001b[1;31mTypeError\u001b[0m: ufunc 'add' did not contain a loop with signature matching types dtype('<U11') dtype('<U11') dtype('<U11')"
     ]
    }
   ],
   "source": [
    "np.add(a_array,b_array)"
   ]
  },
  {
   "cell_type": "code",
   "execution_count": 48,
   "metadata": {
    "collapsed": false
   },
   "outputs": [
    {
     "name": "stdout",
     "output_type": "stream",
     "text": [
      "[[1 2 3]\n",
      " [4 5 6]]\n",
      "(2, 3)\n",
      "[[ 1.          0.5         0.33333333]\n",
      " [ 0.25        0.2         0.16666667]]\n",
      "(2, 3)\n"
     ]
    }
   ],
   "source": [
    "# let's create two 2 x 3 arrays\n",
    "a_array = np.array([[1,2,3],[4,5,6]])\n",
    "b_array = 1/a_array\n",
    "\n",
    "print(a_array)\n",
    "print(a_array.shape)\n",
    "print(b_array)\n",
    "print(b_array.shape)"
   ]
  },
  {
   "cell_type": "code",
   "execution_count": 58,
   "metadata": {
    "collapsed": false
   },
   "outputs": [
    {
     "name": "stdout",
     "output_type": "stream",
     "text": [
      "[[ 1.  1.  1.]\n",
      " [ 1.  1.  1.]]\n",
      "[[ 1.  1.  1.]\n",
      " [ 1.  1.  1.]]\n",
      "[[  1.   4.   9.]\n",
      " [ 16.  25.  36.]]\n",
      "[[  1.   4.   9.]\n",
      " [ 16.  25.  36.]]\n",
      "[[ 2.          2.5         3.33333333]\n",
      " [ 4.25        5.2         6.16666667]]\n",
      "[[ 2.          2.5         3.33333333]\n",
      " [ 4.25        5.2         6.16666667]]\n",
      "[[ 0.          1.5         2.66666667]\n",
      " [ 3.75        4.8         5.83333333]]\n",
      "[[ 0.          1.5         2.66666667]\n",
      " [ 3.75        4.8         5.83333333]]\n",
      "[[ 1  4  9]\n",
      " [16 25 36]]\n",
      "[[ 1  4  9]\n",
      " [16 25 36]]\n",
      "21\n"
     ]
    }
   ],
   "source": [
    "# It's like the numerical operations on numbers (integers, float numbers ...), we can use the \n",
    "# same set of operations on arrays. Another way to think it is that a number is 1 x 1 array. \n",
    "\n",
    "print(a_array*b_array)\n",
    "print(np.multiply(a_array,b_array))\n",
    "\n",
    "print(a_array/b_array)\n",
    "print(np.divide(a_array,b_array))\n",
    "\n",
    "print(a_array+b_array)\n",
    "print(np.add(a_array,b_array))\n",
    "\n",
    "print(a_array-b_array)\n",
    "print(np.subtract(a_array,b_array))\n",
    "\n",
    "print(a_array**2)\n",
    "print(np.power(a_array,2))\n",
    "\n",
    "print(a_array)\n",
    "\n",
    "\n"
   ]
  },
  {
   "cell_type": "code",
   "execution_count": 78,
   "metadata": {
    "collapsed": false
   },
   "outputs": [
    {
     "name": "stdout",
     "output_type": "stream",
     "text": [
      "6\n",
      "[1 2 3]\n",
      "3.5\n",
      "[ 2.5  3.5  4.5]\n",
      "[[1 2 3]\n",
      " [4 5 6]]\n",
      "21\n",
      "[5 7 9]\n",
      "[ 6 15]\n"
     ]
    }
   ],
   "source": [
    "# Find, calculate values within array\n",
    "print(a_array)\n",
    "print(np.max(a_array))\n",
    "print(np.min(a_array))\n",
    "print(np.average(a_array))\n",
    "print(np.mean(a_array))\n",
    "print(np.sum(a_array)) \n",
    "\n",
    "# only calculate along one direction by defining axis\n",
    "print(np.min(a_array, axis=0))\n",
    "print(np.mean(a_array,axis=0))\n",
    "print(np.sum(a_array, axis=0))\n",
    "print(np.sum(a_array, axis=1))\n",
    "\n",
    "\n",
    "\n"
   ]
  },
  {
   "cell_type": "code",
   "execution_count": 83,
   "metadata": {
    "collapsed": false
   },
   "outputs": [
    {
     "name": "stdout",
     "output_type": "stream",
     "text": [
      "[[1 4]\n",
      " [2 5]\n",
      " [3 6]]\n",
      "[[14 32]\n",
      " [32 77]]\n",
      "[[14 32]\n",
      " [32 77]]\n"
     ]
    }
   ],
   "source": [
    "# Matrix multiplication \n",
    "# n x m * m x l => n x l\n",
    "#np.dot(a_array,b_array)\n",
    "\n",
    "a_array_T = a_array.T\n",
    "print(a_array_T)\n",
    "print(np.dot(a_array, a_array_T))   # 2x3 * 3x2 => 2x2\n",
    "print(a_array.dot(a_array_T))       # both np.dot or array.dot work"
   ]
  },
  {
   "cell_type": "code",
   "execution_count": null,
   "metadata": {
    "collapsed": true
   },
   "outputs": [],
   "source": []
  }
 ],
 "metadata": {
  "anaconda-cloud": {},
  "kernelspec": {
   "display_name": "Python [Root]",
   "language": "python",
   "name": "Python [Root]"
  },
  "language_info": {
   "codemirror_mode": {
    "name": "ipython",
    "version": 3
   },
   "file_extension": ".py",
   "mimetype": "text/x-python",
   "name": "python",
   "nbconvert_exporter": "python",
   "pygments_lexer": "ipython3",
   "version": "3.5.2"
  }
 },
 "nbformat": 4,
 "nbformat_minor": 0
}
