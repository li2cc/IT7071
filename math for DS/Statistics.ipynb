{
 "cells": [
  {
   "cell_type": "markdown",
   "metadata": {},
   "source": [
    "# Statistics \n",
    "\n"
   ]
  },
  {
   "cell_type": "code",
   "execution_count": 2,
   "metadata": {
    "collapsed": true
   },
   "outputs": [],
   "source": [
    "%matplotlib inline \n",
    "import scipy as sp\n",
    "import numpy as np \n",
    "import matplotlib.pyplot as plt \n",
    "\n",
    "from scipy.stats import norm"
   ]
  },
  {
   "cell_type": "code",
   "execution_count": 9,
   "metadata": {
    "collapsed": false
   },
   "outputs": [
    {
     "data": {
      "text/plain": [
       "numpy.ndarray"
      ]
     },
     "execution_count": 9,
     "metadata": {},
     "output_type": "execute_result"
    }
   ],
   "source": [
    "number_of_data_points = 10000\n",
    "random_data_set = sp.randn(number_of_data_points)\n",
    "type(random_data_set)"
   ]
  },
  {
   "cell_type": "code",
   "execution_count": 10,
   "metadata": {
    "collapsed": false
   },
   "outputs": [
    {
     "data": {
      "text/plain": [
       "0.0027233304377106541"
      ]
     },
     "execution_count": 10,
     "metadata": {},
     "output_type": "execute_result"
    }
   ],
   "source": [
    "random_data_set.mean()  #sample size determine the closeness to 0"
   ]
  },
  {
   "cell_type": "code",
   "execution_count": 11,
   "metadata": {
    "collapsed": false
   },
   "outputs": [
    {
     "data": {
      "text/plain": [
       "0.0076665724732848618"
      ]
     },
     "execution_count": 11,
     "metadata": {},
     "output_type": "execute_result"
    }
   ],
   "source": [
    "sp.median(random_data_set)"
   ]
  },
  {
   "cell_type": "code",
   "execution_count": 12,
   "metadata": {
    "collapsed": false
   },
   "outputs": [
    {
     "data": {
      "text/plain": [
       "array([-3.8838572 ,  3.72242057])"
      ]
     },
     "execution_count": 12,
     "metadata": {},
     "output_type": "execute_result"
    }
   ],
   "source": [
    "min_max = np.array([random_data_set.min(), random_data_set.max()])\n",
    "min_max"
   ]
  },
  {
   "cell_type": "code",
   "execution_count": 13,
   "metadata": {
    "collapsed": false
   },
   "outputs": [
    {
     "data": {
      "text/plain": [
       "array([ 0.99583545,  0.99168825])"
      ]
     },
     "execution_count": 13,
     "metadata": {},
     "output_type": "execute_result"
    }
   ],
   "source": [
    "spread_measures = np.array([sp.std(random_data_set), sp.var(random_data_set)])\n",
    "spread_measures"
   ]
  },
  {
   "cell_type": "code",
   "execution_count": 14,
   "metadata": {
    "collapsed": false
   },
   "outputs": [
    {
     "data": {
      "text/plain": [
       "DescribeResult(nobs=10000, minmax=(-3.8838571976216931, 3.722420567724082), mean=0.0027233304377106541, variance=0.99178743031300554, skewness=-0.024930058862527072, kurtosis=-0.009524002144718047)"
      ]
     },
     "execution_count": 14,
     "metadata": {},
     "output_type": "execute_result"
    }
   ],
   "source": [
    "sp.stats.describe(random_data_set)"
   ]
  },
  {
   "cell_type": "code",
   "execution_count": 15,
   "metadata": {
    "collapsed": true
   },
   "outputs": [],
   "source": [
    "#other distributiosn"
   ]
  },
  {
   "cell_type": "code",
   "execution_count": 17,
   "metadata": {
    "collapsed": false
   },
   "outputs": [
    {
     "name": "stdout",
     "output_type": "stream",
     "text": [
      "115.42\n",
      " 80.63\n",
      "101.03\n",
      "101.24\n",
      "120.36\n",
      "104.10\n",
      " 66.86\n",
      " 96.50\n",
      "100.85\n",
      " 73.58\n"
     ]
    }
   ],
   "source": [
    "iq_mean=100  \n",
    "iq_std_dev = 15\n",
    "iq_distribution = norm(loc=iq_mean, scale=iq_std_dev)   #generate dataset from mean and std_dev\n",
    "for n in np.arange(10):  #take 10 outputs from this distribution\n",
    "    print('{:6.2f}'.format(iq_distribution.rvs()))  #learn the formated output"
   ]
  },
  {
   "cell_type": "code",
   "execution_count": 4,
   "metadata": {
    "collapsed": false
   },
   "outputs": [
    {
     "data": {
      "image/png": "[encoded data removed]",
      "text/plain": [
       "<matplotlib.figure.Figure at 0x3fe7668>"
      ]
     },
     "metadata": {},
     "output_type": "display_data"
    }
   ],
   "source": [
    "\n",
    "mu, sigma = 100, 15\n",
    "#method 1 using randn\n",
    "#data_set = mu+sigma*np.random.randn(10000)\n",
    "\n",
    "#method 2 using normal(mu, sigma, number_of_samples)\n",
    "data_set = np.random.normal(mu, sigma, 1000000)\n",
    "\n",
    "n,bins,pathes = plt.hist(data_set, 50, normed=1, facecolor='g', alpha=0.75)\n",
    "\n",
    "plt.xlabel('IQ Score')\n",
    "plt.ylabel('Probablility')\n",
    "plt.title('Histogram of IQ')\n",
    "# plt.text(60, 0.25, r'$\\mu=100,\\ \\sigma=15$')\n",
    "plt.axis([40, 160, 0, 0.03])\n",
    "plt.grid(True)\n",
    "plt.show()\n"
   ]
  },
  {
   "cell_type": "code",
   "execution_count": 10,
   "metadata": {
    "collapsed": true
   },
   "outputs": [],
   "source": [
    "#use scipy to create and plot normal distribution based on mean and std\n",
    "from scipy import stats\n",
    "mean, std =100, 15\n",
    "X =np.arange(50,150,0.1) #use the range bigger than 3 x std\n",
    "Y=stats.norm.pdf(X,mean,std)"
   ]
  },
  {
   "cell_type": "code",
   "execution_count": 11,
   "metadata": {
    "collapsed": false
   },
   "outputs": [
    {
     "data": {
      "text/plain": [
       "[<matplotlib.lines.Line2D at 0x83f6d68>]"
      ]
     },
     "execution_count": 11,
     "metadata": {},
     "output_type": "execute_result"
    },
    {
     "data": {
      "image/png": "[encoded data removed]",
      "text/plain": [
       "<matplotlib.figure.Figure at 0x8380240>"
      ]
     },
     "metadata": {},
     "output_type": "display_data"
    }
   ],
   "source": [
    "plt.plot(X,Y)\n"
   ]
  },
  {
   "cell_type": "code",
   "execution_count": 7,
   "metadata": {
    "collapsed": false
   },
   "outputs": [
    {
     "data": {
      "text/plain": [
       "array([ -4.00000000e+00,  -3.90000000e+00,  -3.80000000e+00,\n",
       "        -3.70000000e+00,  -3.60000000e+00,  -3.50000000e+00,\n",
       "        -3.40000000e+00,  -3.30000000e+00,  -3.20000000e+00,\n",
       "        -3.10000000e+00,  -3.00000000e+00,  -2.90000000e+00,\n",
       "        -2.80000000e+00,  -2.70000000e+00,  -2.60000000e+00,\n",
       "        -2.50000000e+00,  -2.40000000e+00,  -2.30000000e+00,\n",
       "        -2.20000000e+00,  -2.10000000e+00,  -2.00000000e+00,\n",
       "        -1.90000000e+00,  -1.80000000e+00,  -1.70000000e+00,\n",
       "        -1.60000000e+00,  -1.50000000e+00,  -1.40000000e+00,\n",
       "        -1.30000000e+00,  -1.20000000e+00,  -1.10000000e+00,\n",
       "        -1.00000000e+00,  -9.00000000e-01,  -8.00000000e-01,\n",
       "        -7.00000000e-01,  -6.00000000e-01,  -5.00000000e-01,\n",
       "        -4.00000000e-01,  -3.00000000e-01,  -2.00000000e-01,\n",
       "        -1.00000000e-01,   3.55271368e-15,   1.00000000e-01,\n",
       "         2.00000000e-01,   3.00000000e-01,   4.00000000e-01,\n",
       "         5.00000000e-01,   6.00000000e-01,   7.00000000e-01,\n",
       "         8.00000000e-01,   9.00000000e-01,   1.00000000e+00,\n",
       "         1.10000000e+00,   1.20000000e+00,   1.30000000e+00,\n",
       "         1.40000000e+00,   1.50000000e+00,   1.60000000e+00,\n",
       "         1.70000000e+00,   1.80000000e+00,   1.90000000e+00,\n",
       "         2.00000000e+00,   2.10000000e+00,   2.20000000e+00,\n",
       "         2.30000000e+00,   2.40000000e+00,   2.50000000e+00,\n",
       "         2.60000000e+00,   2.70000000e+00,   2.80000000e+00,\n",
       "         2.90000000e+00,   3.00000000e+00,   3.10000000e+00,\n",
       "         3.20000000e+00,   3.30000000e+00,   3.40000000e+00,\n",
       "         3.50000000e+00,   3.60000000e+00,   3.70000000e+00,\n",
       "         3.80000000e+00,   3.90000000e+00])"
      ]
     },
     "execution_count": 7,
     "metadata": {},
     "output_type": "execute_result"
    }
   ],
   "source": [
    "X"
   ]
  },
  {
   "cell_type": "code",
   "execution_count": 14,
   "metadata": {
    "collapsed": false
   },
   "outputs": [
    {
     "data": {
      "text/plain": [
       "[<matplotlib.lines.Line2D at 0x7c392e8>]"
      ]
     },
     "execution_count": 14,
     "metadata": {},
     "output_type": "execute_result"
    },
    {
     "data": {
      "image/png": "[encoded data removed]",
      "text/plain": [
       "<matplotlib.figure.Figure at 0x86e7160>"
      ]
     },
     "metadata": {},
     "output_type": "display_data"
    }
   ],
   "source": [
    "# T-distribution (N<30) student distribution \n",
    "from scipy.stats import t\n",
    "\n",
    "x=np.linspace(-5,5,100)\n",
    "rv = t(5)\n",
    "plt.plot(x,rv.pdf(x))"
   ]
  },
  {
   "cell_type": "code",
   "execution_count": 31,
   "metadata": {
    "collapsed": false
   },
   "outputs": [
    {
     "data": {
      "text/plain": [
       "[<matplotlib.lines.Line2D at 0xa0476a0>]"
      ]
     },
     "execution_count": 31,
     "metadata": {},
     "output_type": "execute_result"
    },
    {
     "data": {
      "image/png": "[encoded data removed]",
      "text/plain": [
       "<matplotlib.figure.Figure at 0x82277b8>"
      ]
     },
     "metadata": {},
     "output_type": "display_data"
    }
   ],
   "source": [
    "#t(20) is closer to normal distribution, t(30) looks the same\n",
    "\n",
    "x=np.linspace(-10,10,1000)\n",
    "rv = t(20)\n",
    "rv2 = t(3)\n",
    "plt.plot(x,rv.pdf(x))\n",
    "plt.plot(x,rv2.pdf(x))\n",
    "y=stats.norm.pdf(x,0,1)\n",
    "plt.plot(x,y)"
   ]
  },
  {
   "cell_type": "code",
   "execution_count": null,
   "metadata": {
    "collapsed": true
   },
   "outputs": [],
   "source": []
  }
 ],
 "metadata": {
  "anaconda-cloud": {},
  "kernelspec": {
   "display_name": "Python [Root]",
   "language": "python",
   "name": "Python [Root]"
  },
  "language_info": {
   "codemirror_mode": {
    "name": "ipython",
    "version": 3
   },
   "file_extension": ".py",
   "mimetype": "text/x-python",
   "name": "python",
   "nbconvert_exporter": "python",
   "pygments_lexer": "ipython3",
   "version": "3.5.2"
  }
 },
 "nbformat": 4,
 "nbformat_minor": 0
}
