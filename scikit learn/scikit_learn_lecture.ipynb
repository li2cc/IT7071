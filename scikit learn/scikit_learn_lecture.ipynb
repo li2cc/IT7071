{
 "cells": [
  {
   "cell_type": "markdown",
   "metadata": {},
   "source": [
    "# Scikit Learn Practice"
   ]
  },
  {
   "cell_type": "code",
   "execution_count": 1,
   "metadata": {
    "collapsed": false
   },
   "outputs": [
    {
     "data": {
      "text/html": [
       "\n",
       "        <iframe\n",
       "            width=\"1200\"\n",
       "            height=\"300\"\n",
       "            src=\"http://scikit-learn.org/stable/\"\n",
       "            frameborder=\"0\"\n",
       "            allowfullscreen\n",
       "        ></iframe>\n",
       "        "
      ],
      "text/plain": [
       "<IPython.lib.display.IFrame at 0x42e65f8>"
      ]
     },
     "execution_count": 1,
     "metadata": {},
     "output_type": "execute_result"
    }
   ],
   "source": [
    "from IPython.display import IFrame\n",
    "IFrame('http://scikit-learn.org/stable/', width=1200, height=300)"
   ]
  },
  {
   "cell_type": "markdown",
   "metadata": {},
   "source": [
    "### 1. Getting toy data from sklearn"
   ]
  },
  {
   "cell_type": "code",
   "execution_count": 2,
   "metadata": {
    "collapsed": false
   },
   "outputs": [
    {
     "data": {
      "text/html": [
       "\n",
       "        <iframe\n",
       "            width=\"1200\"\n",
       "            height=\"200\"\n",
       "            src=\"http://scikit-learn.org/stable/datasets/#toy-datasets\"\n",
       "            frameborder=\"0\"\n",
       "            allowfullscreen\n",
       "        ></iframe>\n",
       "        "
      ],
      "text/plain": [
       "<IPython.lib.display.IFrame at 0x42e6a58>"
      ]
     },
     "execution_count": 2,
     "metadata": {},
     "output_type": "execute_result"
    }
   ],
   "source": [
    "from IPython.display import IFrame\n",
    "IFrame('http://scikit-learn.org/stable/datasets/#toy-datasets', width=1200, height=200)"
   ]
  },
  {
   "cell_type": "code",
   "execution_count": 3,
   "metadata": {
    "collapsed": false
   },
   "outputs": [
    {
     "name": "stdout",
     "output_type": "stream",
     "text": [
      "(506, 13)\n",
      "(506,)\n"
     ]
    }
   ],
   "source": [
    "#follow the above instruction, let's try the first data set\n",
    "from sklearn.datasets import load_boston\n",
    "boston = load_boston()\n",
    "print(boston.data.shape)\n",
    "print(boston.target.shape)"
   ]
  },
  {
   "cell_type": "code",
   "execution_count": 4,
   "metadata": {
    "collapsed": false
   },
   "outputs": [
    {
     "name": "stdout",
     "output_type": "stream",
     "text": [
      "Boston House Prices dataset\n",
      "===========================\n",
      "\n",
      "Notes\n",
      "------\n",
      "Data Set Characteristics:  \n",
      "\n",
      "    :Number of Instances: 506 \n",
      "\n",
      "    :Number of Attributes: 13 numeric/categorical predictive\n",
      "    \n",
      "    :Median Value (attribute 14) is usually the target\n",
      "\n",
      "    :Attribute Information (in order):\n",
      "        - CRIM     per capita crime rate by town\n",
      "        - ZN       proportion of residential land zoned for lots over 25,000 sq.ft.\n",
      "        - INDUS    proportion of non-retail business acres per town\n",
      "        - CHAS     Charles River dummy variable (= 1 if tract bounds river; 0 otherwise)\n",
      "        - NOX      nitric oxides concentration (parts per 10 million)\n",
      "        - RM       average number of rooms per dwelling\n",
      "        - AGE      proportion of owner-occupied units built prior to 1940\n",
      "        - DIS      weighted distances to five Boston employment centres\n",
      "        - RAD      index of accessibility to radial highways\n",
      "        - TAX      full-value property-tax rate per $10,000\n",
      "        - PTRATIO  pupil-teacher ratio by town\n",
      "        - B        1000(Bk - 0.63)^2 where Bk is the proportion of blacks by town\n",
      "        - LSTAT    % lower status of the population\n",
      "        - MEDV     Median value of owner-occupied homes in $1000's\n",
      "\n",
      "    :Missing Attribute Values: None\n",
      "\n",
      "    :Creator: Harrison, D. and Rubinfeld, D.L.\n",
      "\n",
      "This is a copy of UCI ML housing dataset.\n",
      "http://archive.ics.uci.edu/ml/datasets/Housing\n",
      "\n",
      "\n",
      "This dataset was taken from the StatLib library which is maintained at Carnegie Mellon University.\n",
      "\n",
      "The Boston house-price data of Harrison, D. and Rubinfeld, D.L. 'Hedonic\n",
      "prices and the demand for clean air', J. Environ. Economics & Management,\n",
      "vol.5, 81-102, 1978.   Used in Belsley, Kuh & Welsch, 'Regression diagnostics\n",
      "...', Wiley, 1980.   N.B. Various transformations are used in the table on\n",
      "pages 244-261 of the latter.\n",
      "\n",
      "The Boston house-price data has been used in many machine learning papers that address regression\n",
      "problems.   \n",
      "     \n",
      "**References**\n",
      "\n",
      "   - Belsley, Kuh & Welsch, 'Regression diagnostics: Identifying Influential Data and Sources of Collinearity', Wiley, 1980. 244-261.\n",
      "   - Quinlan,R. (1993). Combining Instance-Based and Model-Based Learning. In Proceedings on the Tenth International Conference of Machine Learning, 236-243, University of Massachusetts, Amherst. Morgan Kaufmann.\n",
      "   - many more! (see http://archive.ics.uci.edu/ml/datasets/Housing)\n",
      "\n"
     ]
    }
   ],
   "source": [
    "#understand the dataset\n",
    "#the DESCR is a string to describe the data set\n",
    "print(boston.DESCR)"
   ]
  },
  {
   "cell_type": "code",
   "execution_count": 6,
   "metadata": {
    "collapsed": false
   },
   "outputs": [
    {
     "name": "stdout",
     "output_type": "stream",
     "text": [
      "      CRIM    ZN  INDUS  CHAS    NOX     RM   AGE     DIS  RAD    TAX  \\\n",
      "0  0.00632  18.0   2.31   0.0  0.538  6.575  65.2  4.0900  1.0  296.0   \n",
      "1  0.02731   0.0   7.07   0.0  0.469  6.421  78.9  4.9671  2.0  242.0   \n",
      "2  0.02729   0.0   7.07   0.0  0.469  7.185  61.1  4.9671  2.0  242.0   \n",
      "3  0.03237   0.0   2.18   0.0  0.458  6.998  45.8  6.0622  3.0  222.0   \n",
      "4  0.06905   0.0   2.18   0.0  0.458  7.147  54.2  6.0622  3.0  222.0   \n",
      "\n",
      "   PTRATIO       B  LSTAT  Price  \n",
      "0     15.3  396.90   4.98   24.0  \n",
      "1     17.8  396.90   9.14   21.6  \n",
      "2     17.8  392.83   4.03   34.7  \n",
      "3     18.7  394.63   2.94   33.4  \n",
      "4     18.7  396.90   5.33   36.2  \n",
      "(506, 14)\n"
     ]
    }
   ],
   "source": [
    "#After observing the data, we decide to conduct linear regression analysis on \n",
    "#the \"target\" - house price. Because the price is a continuous value\n",
    "import numpy as np\n",
    "X = boston.data\n",
    "y = boston.target\n",
    "\n",
    "#in addition to obtaining the data in numpy.ndarray format, we can also \n",
    "#create a pandas dataframe to store the data\n",
    "import pandas as pd \n",
    "\n",
    "#Add X to boston_df\n",
    "boston_df = pd.DataFrame(X)\n",
    "\n",
    "#the dataframe's column names are from a string list loaded with boston dataset\n",
    "boston_df.columns = boston.feature_names\n",
    "\n",
    "#add the target(y) to the last column \n",
    "boston_df['Price'] = y\n",
    "\n",
    "#observe if we obtained the right dataframe\n",
    "print(boston_df.head(5))\n",
    "print(boston_df.shape)"
   ]
  },
  {
   "cell_type": "markdown",
   "metadata": {},
   "source": [
    "### 2. Visualize Data"
   ]
  },
  {
   "cell_type": "code",
   "execution_count": 7,
   "metadata": {
    "collapsed": true
   },
   "outputs": [],
   "source": [
    "#import packages for visulization\n",
    "from matplotlib import pyplot as plt\n",
    "import seaborn as sns\n",
    "%matplotlib inline"
   ]
  },
  {
   "cell_type": "code",
   "execution_count": 10,
   "metadata": {
    "collapsed": false
   },
   "outputs": [
    {
     "data": {
      "text/plain": [
       "[<matplotlib.text.Text at 0xafa93c8>, <matplotlib.text.Text at 0xb0d5518>]"
      ]
     },
     "execution_count": 10,
     "metadata": {},
     "output_type": "execute_result"
    },
    {
     "data": {
      "image/png": "[encoded data removed]",
      "text/plain": [
       "<matplotlib.figure.Figure at 0xb0b76a0>"
      ]
     },
     "metadata": {},
     "output_type": "display_data"
    }
   ],
   "source": [
    "#price distribution: use plt.hist or sns.distplot \n",
    "#This time, we try to separate the settings from seaborn plot\n",
    "#you can simply plot distplot with parameters set in the ()\n",
    "ax = sns.distplot(y, bins=10, kde=False)\n",
    "ax.set(xlabel=\"Price in $1000\", ylabel=\"Numbers of Houses\")"
   ]
  },
  {
   "cell_type": "code",
   "execution_count": 12,
   "metadata": {
    "collapsed": false
   },
   "outputs": [
    {
     "data": {
      "image/png": "[encoded data removed]",
      "text/plain": [
       "<matplotlib.figure.Figure at 0xb1a3be0>"
      ]
     },
     "metadata": {},
     "output_type": "display_data"
    }
   ],
   "source": [
    "#There are 13 features plus the 'Price\" column\n",
    "#let's observe the correlations among them\n",
    "#Goolge examples and read seaborn documentation\n",
    "#we found an example to follow\n",
    "#http://seaborn.pydata.org/examples/network_correlations.html\n",
    "\n",
    "#corr() is a Pandas function to calculate correlation among columns\n",
    "corrmat = boston_df.corr()\n",
    "\n",
    "# The diagram has a lot information\n",
    "# Let's change the size of the figure to 8X6(inch X inch)\n",
    "f, ax = plt.subplots(figsize=(8,6))\n",
    "\n",
    "# Draw the heatmap using seaborn\n",
    "sns.heatmap(corrmat, vmax=.8, square=True)\n",
    "f.tight_layout()"
   ]
  },
  {
   "cell_type": "markdown",
   "metadata": {},
   "source": [
    "#### We can see that RM, LSTAT, and INDUS have strong relationship to Price"
   ]
  },
  {
   "cell_type": "code",
   "execution_count": 13,
   "metadata": {
    "collapsed": false
   },
   "outputs": [
    {
     "name": "stdout",
     "output_type": "stream",
     "text": [
      "(14, 14)\n"
     ]
    },
    {
     "data": {
      "text/plain": [
       "LSTAT     -0.737663\n",
       "PTRATIO   -0.507787\n",
       "INDUS     -0.483725\n",
       "TAX       -0.468536\n",
       "NOX       -0.427321\n",
       "CRIM      -0.385832\n",
       "RAD       -0.381626\n",
       "AGE       -0.376955\n",
       "CHAS       0.175260\n",
       "DIS        0.249929\n",
       "B          0.333461\n",
       "ZN         0.360445\n",
       "RM         0.695360\n",
       "Price      1.000000\n",
       "Name: Price, dtype: float64"
      ]
     },
     "execution_count": 13,
     "metadata": {},
     "output_type": "execute_result"
    }
   ],
   "source": [
    "#Look at the correlation numerically\n",
    "#print(corrmat)\n",
    "print(corrmat.shape)\n",
    "corrmat.columns\n",
    "corrmat['Price'].sort_values()"
   ]
  },
  {
   "cell_type": "code",
   "execution_count": 14,
   "metadata": {
    "collapsed": false
   },
   "outputs": [
    {
     "data": {
      "text/plain": [
       "<matplotlib.axes._subplots.AxesSubplot at 0xb3c0be0>"
      ]
     },
     "execution_count": 14,
     "metadata": {},
     "output_type": "execute_result"
    },
    {
     "data": {
      "image/png": "[encoded data removed]",
      "text/plain": [
       "<matplotlib.figure.Figure at 0xb404eb8>"
      ]
     },
     "metadata": {},
     "output_type": "display_data"
    }
   ],
   "source": [
    "# we can see the numbers via seaborn\n",
    "# There are other ways to improve this display\n",
    "f, ax = plt.subplots(figsize=(8,6))\n",
    "sns.heatmap(corrmat, vmax=.8, square=True, annot=True)"
   ]
  },
  {
   "cell_type": "markdown",
   "metadata": {},
   "source": [
    "### 3. Build a Model Using Scikit Learn"
   ]
  },
  {
   "cell_type": "code",
   "execution_count": 15,
   "metadata": {
    "collapsed": true
   },
   "outputs": [],
   "source": [
    "#We determine that this is a supervised machine learning problem\n",
    "#Linear Regression can be a good model\n",
    "from sklearn import linear_model"
   ]
  },
  {
   "cell_type": "code",
   "execution_count": 17,
   "metadata": {
    "collapsed": false
   },
   "outputs": [
    {
     "name": "stdout",
     "output_type": "stream",
     "text": [
      "Intercept: \n",
      " 36.4911032804\n",
      "Coefficients: \n",
      " [ -1.07170557e-01   4.63952195e-02   2.08602395e-02   2.68856140e+00\n",
      "  -1.77957587e+01   3.80475246e+00   7.51061703e-04  -1.47575880e+00\n",
      "   3.05655038e-01  -1.23293463e-02  -9.53463555e-01   9.39251272e-03\n",
      "  -5.25466633e-01]\n",
      "R_squared: \n",
      " 0.740607742865\n"
     ]
    }
   ],
   "source": [
    "#create a linear regression model from linear_model package \n",
    "model=linear_model.LinearRegression()\n",
    "\n",
    "#Train the model with our data (X, y)\n",
    "model.fit(X,y)\n",
    "\n",
    "#Display the parameters\n",
    "print('Intercept: \\n', model.intercept_)\n",
    "print('Coefficients: \\n', model.coef_)\n",
    "\n",
    "#use R squared to see how much variation is explained by the trained model\n",
    "print('R_squared: \\n', model.score(X,y))\n"
   ]
  },
  {
   "cell_type": "markdown",
   "metadata": {},
   "source": [
    "### 4. Analyze, Evaluate, and Refine the Model\n",
    "\n",
    "So far, we used all the features to train the model. Is that necessary or efficient to do so? We already noticed that some features have very low correlation to y. We probably can remove these features first and retrain our model. In addition, some features are highly correlated to each other. We can keep one feature to represent the highly related features. \n",
    "\n",
    "There are several techniques for feature selection. Let's explore a very basic one. \n",
    "\n",
    "#### 4.1 Train a model with only one feature"
   ]
  },
  {
   "cell_type": "code",
   "execution_count": 18,
   "metadata": {
    "collapsed": true
   },
   "outputs": [],
   "source": [
    "#To avoid typing the same states for every training, let's create a simple train_model function \n",
    "\n",
    "#The function takes X, y and retrun the trained model and R squared\n",
    "def train_model(X,y):\n",
    "    model = linear_model.LinearRegression()\n",
    "    model.fit(X, y)\n",
    "    R_2 = model.score(X,y)\n",
    "    return model, R_2"
   ]
  },
  {
   "cell_type": "code",
   "execution_count": 22,
   "metadata": {
    "collapsed": false
   },
   "outputs": [
    {
     "name": "stdout",
     "output_type": "stream",
     "text": [
      "Index(['CRIM', 'ZN', 'INDUS', 'CHAS', 'NOX', 'RM', 'AGE', 'DIS', 'RAD', 'TAX',\n",
      "       'PTRATIO', 'B', 'LSTAT', 'Price'],\n",
      "      dtype='object')\n",
      "CRIM 0.148866092919\n",
      "ZN 0.129920844894\n",
      "INDUS 0.233990030444\n",
      "CHAS 0.0307161297088\n",
      "NOX 0.182603042502\n",
      "RM 0.483525455991\n",
      "AGE 0.142094744078\n",
      "DIS 0.0624643721218\n",
      "RAD 0.145638579912\n",
      "TAX 0.219525921044\n",
      "PTRATIO 0.257847318009\n",
      "B 0.111196118246\n",
      "LSTAT 0.544146297586\n"
     ]
    }
   ],
   "source": [
    "#Take a look of column names again\n",
    "print(boston_df.columns)\n",
    "\n",
    "#Store the returned R squared \n",
    "R_2_array = np.array([])\n",
    "\n",
    "# for each feature \n",
    "for col_name in boston_df.columns:\n",
    "    # Avoid the last column, because it's y\n",
    "    if col_name == 'Price':\n",
    "        continue\n",
    "    else: \n",
    "        #extract the feature column from dataset\n",
    "        X_feature = boston_df[[col_name]]\n",
    "        \n",
    "        #y is still the last column\n",
    "        target = boston_df[['Price']]\n",
    "        \n",
    "        #call the train_model with X, y\n",
    "        model, R_2 = train_model(X_feature, target)\n",
    "        \n",
    "        #print R Squared\n",
    "        print(col_name, R_2)\n",
    "        \n",
    "        #Save the R Squared value to an array\n",
    "        R_2_array = np.append(R_2_array, R_2)\n",
    "        "
   ]
  },
  {
   "cell_type": "markdown",
   "metadata": {},
   "source": [
    "#### 4.2 Sort the features based on R squared values"
   ]
  },
  {
   "cell_type": "code",
   "execution_count": 24,
   "metadata": {
    "collapsed": false
   },
   "outputs": [
    {
     "name": "stdout",
     "output_type": "stream",
     "text": [
      "[12  5 10  2  9  4  0  8  6  1 11  7  3]\n"
     ]
    }
   ],
   "source": [
    "# find the ordered indexes from R_2_array\n",
    "\n",
    "#numpy.argsort() sort the indexes based on values\n",
    "#the sort is in ascending order\n",
    "#to display it in a descending order we use a smart way - [::-1]\n",
    "#take your time to think why\n",
    "\n",
    "#save the sorted indexes in sorted_R_2_index\n",
    "sorted_R_2_index = np.argsort(R_2_array)[::-1]\n",
    "print(sorted_R_2_index)"
   ]
  },
  {
   "cell_type": "markdown",
   "metadata": {},
   "source": [
    "#### 4.3 Use the most associated features to train the model. Add the features to the model based on their individule R Squared value"
   ]
  },
  {
   "cell_type": "code",
   "execution_count": 27,
   "metadata": {
    "collapsed": false
   },
   "outputs": [
    {
     "name": "stdout",
     "output_type": "stream",
     "text": [
      "['LSTAT']\n",
      "R2:  0.544146297586\n",
      "['LSTAT', 'RM']\n",
      "R2:  0.63856160626\n",
      "['LSTAT', 'RM', 'PTRATIO']\n",
      "R2:  0.678624160161\n",
      "['LSTAT', 'RM', 'PTRATIO', 'INDUS']\n",
      "R2:  0.678643485576\n",
      "['LSTAT', 'RM', 'PTRATIO', 'INDUS', 'TAX']\n",
      "R2:  0.680409774129\n",
      "['LSTAT', 'RM', 'PTRATIO', 'INDUS', 'TAX', 'NOX']\n",
      "R2:  0.68102174974\n",
      "['LSTAT', 'RM', 'PTRATIO', 'INDUS', 'TAX', 'NOX', 'CRIM']\n",
      "R2:  0.682600865154\n",
      "['LSTAT', 'RM', 'PTRATIO', 'INDUS', 'TAX', 'NOX', 'CRIM', 'RAD']\n",
      "R2:  0.694301688846\n",
      "['LSTAT', 'RM', 'PTRATIO', 'INDUS', 'TAX', 'NOX', 'CRIM', 'RAD', 'AGE']\n",
      "R2:  0.698371350827\n",
      "['LSTAT', 'RM', 'PTRATIO', 'INDUS', 'TAX', 'NOX', 'CRIM', 'RAD', 'AGE', 'ZN']\n",
      "R2:  0.69849189519\n",
      "['LSTAT', 'RM', 'PTRATIO', 'INDUS', 'TAX', 'NOX', 'CRIM', 'RAD', 'AGE', 'ZN', 'B']\n",
      "R2:  0.706228480533\n",
      "['LSTAT', 'RM', 'PTRATIO', 'INDUS', 'TAX', 'NOX', 'CRIM', 'RAD', 'AGE', 'ZN', 'B', 'DIS']\n",
      "R2:  0.735474359356\n",
      "['LSTAT', 'RM', 'PTRATIO', 'INDUS', 'TAX', 'NOX', 'CRIM', 'RAD', 'AGE', 'ZN', 'B', 'DIS', 'CHAS']\n",
      "R2:  0.740607742865\n"
     ]
    }
   ],
   "source": [
    "#The number of models is the number of features\n",
    "#in each iteration we add in one new feature\n",
    "for i in range(len(sorted_R_2_index)):\n",
    "    \n",
    "    #the selected_features should be the top i most associated features\n",
    "    selected_features = []\n",
    "    \n",
    "    #take the top 1 to ith features as X\n",
    "    for j in range(i+1):\n",
    "        \n",
    "            #append a new column based on the sorted R value\n",
    "            #take your time to digist this line\n",
    "            selected_features.append(boston_df.columns[sorted_R_2_index[j]])\n",
    "            \n",
    "    #verify we got the right features\n",
    "    print(selected_features)\n",
    "    \n",
    "    # X\n",
    "    X_feature = boston_df[selected_features]\n",
    "    \n",
    "    # y\n",
    "    target = boston_df[['Price']]\n",
    "    \n",
    "    # train the model\n",
    "    model, R_2 = train_model(X_feature, target)\n",
    "    \n",
    "    #print out R Squared of each model\n",
    "    print(\"R2: \", R_2)"
   ]
  },
  {
   "cell_type": "markdown",
   "metadata": {},
   "source": [
    "## Reflection \n",
    " \n",
    " It looks like all the features contribute to the improvement of R Squared. Why? \n",
    " There are features improved R more than other features, such as \n",
    " LSTAT, RM, PTRATIO, and DIS. We can set a threshold to remove other features. \n",
    " We can also explore other methods to reduce the number of features. \n",
    " Why do we need to reduce the number of features? \n",
    "\n",
    " Let's try a simple method, called step-wise regression "
   ]
  },
  {
   "cell_type": "code",
   "execution_count": 28,
   "metadata": {
    "collapsed": false,
    "scrolled": true
   },
   "outputs": [
    {
     "data": {
      "text/html": [
       "\n",
       "        <iframe\n",
       "            width=\"1200\"\n",
       "            height=\"300\"\n",
       "            src=\"https://en.wikipedia.org/wiki/Stepwise_regression\"\n",
       "            frameborder=\"0\"\n",
       "            allowfullscreen\n",
       "        ></iframe>\n",
       "        "
      ],
      "text/plain": [
       "<IPython.lib.display.IFrame at 0xbbf5438>"
      ]
     },
     "execution_count": 28,
     "metadata": {},
     "output_type": "execute_result"
    }
   ],
   "source": [
    "from IPython.display import IFrame\n",
    "IFrame('https://en.wikipedia.org/wiki/Stepwise_regression', width=1200, height=300)"
   ]
  },
  {
   "cell_type": "markdown",
   "metadata": {},
   "source": [
    "### 4.4 Add Adjusted R Squared to the equation"
   ]
  },
  {
   "cell_type": "code",
   "execution_count": 29,
   "metadata": {
    "collapsed": false
   },
   "outputs": [
    {
     "data": {
      "text/html": [
       "\n",
       "        <iframe\n",
       "            width=\"1200\"\n",
       "            height=\"300\"\n",
       "            src=\"https://en.wikipedia.org/wiki/Coefficient_of_determination#Adjusted_R2\"\n",
       "            frameborder=\"0\"\n",
       "            allowfullscreen\n",
       "        ></iframe>\n",
       "        "
      ],
      "text/plain": [
       "<IPython.lib.display.IFrame at 0xbbf57b8>"
      ]
     },
     "execution_count": 29,
     "metadata": {},
     "output_type": "execute_result"
    }
   ],
   "source": [
    "from IPython.display import IFrame\n",
    "IFrame('https://en.wikipedia.org/wiki/Coefficient_of_determination#Adjusted_R2', width=1200, height=300)"
   ]
  },
  {
   "cell_type": "code",
   "execution_count": 35,
   "metadata": {
    "collapsed": true
   },
   "outputs": [],
   "source": [
    "#create a function to calculate Adjusted R_square\n",
    "# n is the number of sample, p is the number features\n",
    "def cal_adjusted_R(R_2, p, n):\n",
    "    R_adjusted = R_2-(1-R_2)*(p/(n-p-1))\n",
    "    return R_adjusted"
   ]
  },
  {
   "cell_type": "code",
   "execution_count": 36,
   "metadata": {
    "collapsed": false
   },
   "outputs": [
    {
     "name": "stdout",
     "output_type": "stream",
     "text": [
      "['LSTAT']\n",
      "R2:  0.544146297586 \t Ajusted R2:  0.543241825955 \n",
      "\n",
      "['LSTAT', 'RM']\n",
      "R2:  0.63856160626 \t Ajusted R2:  0.63712447547 \n",
      "\n",
      "['LSTAT', 'RM', 'PTRATIO']\n",
      "R2:  0.678624160161 \t Ajusted R2:  0.676703587413 \n",
      "\n",
      "['LSTAT', 'RM', 'PTRATIO', 'INDUS']\n",
      "R2:  0.678643485576 \t Ajusted R2:  0.676077764902 \n",
      "\n",
      "['LSTAT', 'RM', 'PTRATIO', 'INDUS', 'TAX']\n",
      "R2:  0.680409774129 \t Ajusted R2:  0.67721387187 \n",
      "\n",
      "['LSTAT', 'RM', 'PTRATIO', 'INDUS', 'TAX', 'NOX']\n",
      "R2:  0.68102174974 \t Ajusted R2:  0.677186339917 \n",
      "\n",
      "['LSTAT', 'RM', 'PTRATIO', 'INDUS', 'TAX', 'NOX', 'CRIM']\n",
      "R2:  0.682600865154 \t Ajusted R2:  0.678139431532 \n",
      "\n",
      "['LSTAT', 'RM', 'PTRATIO', 'INDUS', 'TAX', 'NOX', 'CRIM', 'RAD']\n",
      "R2:  0.694301688846 \t Ajusted R2:  0.689380991685 \n",
      "\n",
      "['LSTAT', 'RM', 'PTRATIO', 'INDUS', 'TAX', 'NOX', 'CRIM', 'RAD', 'AGE']\n",
      "R2:  0.698371350827 \t Ajusted R2:  0.692898250338 \n",
      "\n",
      "['LSTAT', 'RM', 'PTRATIO', 'INDUS', 'TAX', 'NOX', 'CRIM', 'RAD', 'AGE', 'ZN']\n",
      "R2:  0.69849189519 \t Ajusted R2:  0.692400822366 \n",
      "\n",
      "['LSTAT', 'RM', 'PTRATIO', 'INDUS', 'TAX', 'NOX', 'CRIM', 'RAD', 'AGE', 'ZN', 'B']\n",
      "R2:  0.706228480533 \t Ajusted R2:  0.699687009451 \n",
      "\n",
      "['LSTAT', 'RM', 'PTRATIO', 'INDUS', 'TAX', 'NOX', 'CRIM', 'RAD', 'AGE', 'ZN', 'B', 'DIS']\n",
      "R2:  0.735474359356 \t Ajusted R2:  0.729035601369 \n",
      "\n",
      "['LSTAT', 'RM', 'PTRATIO', 'INDUS', 'TAX', 'NOX', 'CRIM', 'RAD', 'AGE', 'ZN', 'B', 'DIS', 'CHAS']\n",
      "R2:  0.740607742865 \t Ajusted R2:  0.733753882412 \n",
      "\n"
     ]
    }
   ],
   "source": [
    "# copy 4.3 down here and add Adjusted R_squared to the output\n",
    "\n",
    "for i in range(len(sorted_R_2_index)):\n",
    "    \n",
    "    #the selected_features should be the top i most associated features\n",
    "    selected_features = []\n",
    "    \n",
    "    #take the top 1 to ith features as X\n",
    "    for j in range(i+1):\n",
    "        \n",
    "            #append a new column based on the sorted R value\n",
    "            #take your time to digest this line\n",
    "            selected_features.append(boston_df.columns[sorted_R_2_index[j]])\n",
    "            \n",
    "    #verify we got the right features\n",
    "    print(selected_features)\n",
    "    \n",
    "    # X\n",
    "    X_feature = boston_df[selected_features]\n",
    "    \n",
    "    # y\n",
    "    target = boston_df[['Price']]\n",
    "    \n",
    "    # train the model\n",
    "    model, R_2 = train_model(X_feature, target)\n",
    "    \n",
    "    #calculate adjusted R\n",
    "    R_adjusted = cal_adjusted_R(R_2, i+1, boston_df.shape[0])\n",
    "    \n",
    "    #print the output\n",
    "    print(\"R2: \", R_2, \"\\t Ajusted R2: \", R_adjusted, \"\\n\")\n",
    "    \n",
    "    \n",
    "    "
   ]
  },
  {
   "cell_type": "markdown",
   "metadata": {},
   "source": [
    "## Conclusions\n",
    "\n",
    "The adjusted R doesn't help us in this dataset. But this is where we can start evaluating our model. \n",
    "Feature selection is a complex problem in machine learning. For future reading, visit Scikit Learn's documentation."
   ]
  },
  {
   "cell_type": "code",
   "execution_count": 37,
   "metadata": {
    "collapsed": false
   },
   "outputs": [
    {
     "data": {
      "text/html": [
       "\n",
       "        <iframe\n",
       "            width=\"1200\"\n",
       "            height=\"300\"\n",
       "            src=\"http://scikit-learn.org/stable/modules/feature_selection.html\"\n",
       "            frameborder=\"0\"\n",
       "            allowfullscreen\n",
       "        ></iframe>\n",
       "        "
      ],
      "text/plain": [
       "<IPython.lib.display.IFrame at 0xbc04f60>"
      ]
     },
     "execution_count": 37,
     "metadata": {},
     "output_type": "execute_result"
    }
   ],
   "source": [
    "from IPython.display import IFrame\n",
    "IFrame('http://scikit-learn.org/stable/modules/feature_selection.html', width=1200, height=300)\n"
   ]
  },
  {
   "cell_type": "code",
   "execution_count": null,
   "metadata": {
    "collapsed": true
   },
   "outputs": [],
   "source": []
  }
 ],
 "metadata": {
  "kernelspec": {
   "display_name": "Python [Root]",
   "language": "python",
   "name": "Python [Root]"
  },
  "language_info": {
   "codemirror_mode": {
    "name": "ipython",
    "version": 3
   },
   "file_extension": ".py",
   "mimetype": "text/x-python",
   "name": "python",
   "nbconvert_exporter": "python",
   "pygments_lexer": "ipython3",
   "version": "3.5.2"
  }
 },
 "nbformat": 4,
 "nbformat_minor": 0
}
